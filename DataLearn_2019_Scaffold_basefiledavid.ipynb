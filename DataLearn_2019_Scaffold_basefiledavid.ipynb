{
  "nbformat": 4,
  "nbformat_minor": 0,
  "metadata": {
    "colab": {
      "name": "DataLearn 2019 - Scaffold.ipynb",
      "version": "0.3.2",
      "provenance": [],
      "collapsed_sections": [],
      "toc_visible": true,
      "machine_shape": "hm",
      "include_colab_link": true
    },
    "kernelspec": {
      "name": "python3",
      "display_name": "Python 3"
    }
  },
  "cells": [
    {
      "cell_type": "markdown",
      "metadata": {
        "id": "view-in-github",
        "colab_type": "text"
      },
      "source": [
        "<a href=\"https://colab.research.google.com/github/debbysonino/LamasDataHack/blob/master/DataLearn_2019_Scaffold_basefiledavid.ipynb\" target=\"_parent\"><img src=\"https://colab.research.google.com/assets/colab-badge.svg\" alt=\"Open In Colab\"/></a>"
      ]
    },
    {
      "cell_type": "markdown",
      "metadata": {
        "id": "dTnHVMK-wyjz",
        "colab_type": "text"
      },
      "source": [
        "&nbsp; ![alt text](https://s3.amazonaws.com/monday.com/static/svg/monday-logos/monday-footer-logo.svg)\n",
        "\n",
        "#Model scaffold\n",
        "This notebook is intended to get you up and running faster.\n",
        "\n",
        "It has the basic scaffold of an ML model, including:\n",
        "* Data loading\n",
        "* Feature extraction\n",
        "* Columns transformation\n",
        "* Training\n",
        "* Evaluating\n",
        "* Submitting results"
      ]
    },
    {
      "cell_type": "markdown",
      "metadata": {
        "id": "jhDZdkDTjyf-",
        "colab_type": "text"
      },
      "source": [
        "###Getting our depnedncies (and data!)\n",
        "First we'll import our relevant libraries"
      ]
    },
    {
      "cell_type": "code",
      "metadata": {
        "id": "Gao6_ydqMgBS",
        "colab_type": "code",
        "colab": {}
      },
      "source": [
        "# General DS libraries we are going to need\n",
        "import pandas as pd\n",
        "import numpy as np\n",
        "import matplotlib.pyplot as plt\n",
        "import seaborn as sns\n",
        "from datetime import timedelta\n",
        "\n",
        "# Importing our base model\n",
        "# [REDACTED ML MODEL USED]\n",
        "\n",
        "# Imports for working with our large dataset\n",
        "from sklearn.utils.random import sample_without_replacement\n",
        "from sklearn.model_selection import train_test_split\n",
        "\n",
        "# We need those for data manipulation and getting our features ready for the model\n",
        "from sklearn.preprocessing import OneHotEncoder, Normalizer, Binarizer\n",
        "from sklearn.compose import make_column_transformer\n",
        "\n",
        "# These can be used to measure our model's performance\n",
        "from sklearn import metrics\n",
        "from sklearn.metrics import classification_report, confusion_matrix\n",
        "\n",
        "# Ignore DataFrame assignment warnings\n",
        "pd.options.mode.chained_assignment = None"
      ],
      "execution_count": 0,
      "outputs": []
    },
    {
      "cell_type": "markdown",
      "metadata": {
        "colab_type": "text",
        "id": "jNoDkmNAsCaY"
      },
      "source": [
        "\n",
        "We set a few constants to use later on for sampeling and running the model"
      ]
    },
    {
      "cell_type": "code",
      "metadata": {
        "colab_type": "code",
        "id": "JhqmBDsksCaa",
        "cellView": "form",
        "colab": {}
      },
      "source": [
        "#@title Model parameters { run: \"auto\" }\n",
        "# n_neighbors = 7 #@param {type:\"slider\", min:1, max:30, step:1}\n",
        "group_name = \"Lamassim\" #@param {type:\"string\"}\n",
        "samples_num = 1360000 #@param {type:\"slider\", min:0, max:1500000, step:10000}\n",
        "n_jobs = -1 #@param {type:\"slider\", min:-1, max:32, step:1}\n",
        "path_prefix = \"https://storage.googleapis.com/mondaycom-datahack/final_sets\" #@param [\"https://storage.googleapis.com/mondaycom-datahack/final_sets\", \"https://mondaycom-datahack.s3.amazonaws.com/final_sets\"] {allow-input: true}"
      ],
      "execution_count": 0,
      "outputs": []
    },
    {
      "cell_type": "markdown",
      "metadata": {
        "colab_type": "text",
        "id": "DpkqHB9lsUmQ"
      },
      "source": [
        "Next we'll load all the different parts of our dataset\n",
        "\n",
        "<br/>\n",
        "\n",
        "_Our use my data loading [snippet](https://colab.research.google.com/drive/1_Y-sZ5eHIDlDUMuLCwfnbuJdLh0DTXmO#scrollTo=5HGlaJTEAYJu&line=23&uniqifier=1)!_"
      ]
    },
    {
      "cell_type": "code",
      "metadata": {
        "id": "b2x0lOgBZRP_",
        "colab_type": "code",
        "colab": {}
      },
      "source": [
        "import os\n",
        "import pandas as pd\n",
        "\n",
        "# We define the datasets we want to load\n",
        "datasets = ('accounts', 'users', 'events', 'subscriptions')\n",
        "source_prefix = 'https://storage.googleapis.com/mondaycom-datahack/final_sets/'\n",
        "\n",
        "local_dir = './datasets/datahack/'\n",
        "file_prefix = 'train_'\n",
        "file_suffix = ''\n",
        "file_extension = 'csv'\n",
        "\n",
        "# We create a directory for the datasets if it doesn't exist\n",
        "if not os.path.exists(local_dir):\n",
        "    os.makedirs(local_dir)\n",
        "\n",
        "# For each dataset we want, we check if we already downloaded it and fix it if we didn't\n",
        "for dataset in datasets:\n",
        "  if not os.path.isfile('{}{}{}{}.{}'.format(local_dir, file_prefix, dataset, file_suffix, file_extension)):\n",
        "    !curl {source_prefix}{file_prefix}{dataset}{file_suffix}.{file_extension} --output {local_dir}{file_prefix}{dataset}{file_suffix}.{file_extension}\n",
        "\n",
        "  # Load the datasets into a DataFrame using pandas\n",
        "  globals()['{}{}'.format(file_prefix, dataset)] = pd.read_csv('{}{}{}{}.{}'.format(local_dir, file_prefix, dataset, file_suffix, file_extension), low_memory=False)"
      ],
      "execution_count": 0,
      "outputs": []
    },
    {
      "cell_type": "code",
      "metadata": {
        "id": "KdEFqnpfKjmk",
        "colab_type": "code",
        "colab": {}
      },
      "source": [
        "import os\n",
        "import pandas as pd\n",
        "\n",
        "# We define the datasets we want to load\n",
        "datasets = ('accounts', 'users', 'events', 'subscriptions')\n",
        "source_prefix = 'https://storage.googleapis.com/mondaycom-datahack/final_sets/'\n",
        "\n",
        "local_dir = './datasets/datahack/'\n",
        "file_prefix = 'test_'\n",
        "file_suffix = ''\n",
        "file_extension = 'csv'\n",
        "\n",
        "# We create a directory for the datasets if it doesn't exist\n",
        "if not os.path.exists(local_dir):\n",
        "    os.makedirs(local_dir)\n",
        "\n",
        "# For each dataset we want, we check if we already downloaded it and fix it if we didn't\n",
        "for dataset in datasets:\n",
        "  if not os.path.isfile('{}{}{}{}.{}'.format(local_dir, file_prefix, dataset, file_suffix, file_extension)):\n",
        "    !curl {source_prefix}{file_prefix}{dataset}{file_suffix}.{file_extension} --output {local_dir}{file_prefix}{dataset}{file_suffix}.{file_extension}\n",
        "\n",
        "  # Load the datasets into a DataFrame using pandas\n",
        "  globals()['{}{}'.format(file_prefix, dataset)] = pd.read_csv('{}{}{}{}.{}'.format(local_dir, file_prefix, dataset, file_suffix, file_extension), low_memory=False)"
      ],
      "execution_count": 0,
      "outputs": []
    },
    {
      "cell_type": "markdown",
      "metadata": {
        "id": "yh1wGtOsUcnf",
        "colab_type": "text"
      },
      "source": [
        "We need to add our test sets to our train sets and work on both at the same time.\n",
        "\n",
        "We'll split them back up before training and inference."
      ]
    },
    {
      "cell_type": "code",
      "metadata": {
        "id": "JNcD_YSBUbiY",
        "colab_type": "code",
        "outputId": "3acf207e-10a3-4b39-ba5c-ba0d52f4002a",
        "colab": {
          "base_uri": "https://localhost:8080/",
          "height": 194
        }
      },
      "source": [
        "accounts = train_accounts.append(test_accounts)\n",
        "users = train_users.append(test_users)\n",
        "events = train_events.append(test_events)\n",
        "subscriptions = train_subscriptions.append(test_subscriptions)"
      ],
      "execution_count": 155,
      "outputs": [
        {
          "output_type": "stream",
          "text": [
            "/usr/local/lib/python3.6/dist-packages/pandas/core/frame.py:6692: FutureWarning:\n",
            "\n",
            "Sorting because non-concatenation axis is not aligned. A future version\n",
            "of pandas will change to not sort by default.\n",
            "\n",
            "To accept the future behavior, pass 'sort=False'.\n",
            "\n",
            "To retain the current behavior and silence the warning, pass 'sort=True'.\n",
            "\n",
            "\n"
          ],
          "name": "stderr"
        }
      ]
    },
    {
      "cell_type": "markdown",
      "metadata": {
        "id": "Jo5vLhgAlY-K",
        "colab_type": "text"
      },
      "source": [
        "###Feature engineering\n",
        "In this block we add a new feature of `[REDACTED]` extracted from the user `[REDACTED]`\n",
        "\n",
        "We also seperate all the `[REDACTED]` users into a different DataFrame"
      ]
    },
    {
      "cell_type": "markdown",
      "metadata": {
        "id": "w6VUhsrzlvES",
        "colab_type": "text"
      },
      "source": [
        "Let's enrich our data a bit"
      ]
    },
    {
      "cell_type": "code",
      "metadata": {
        "id": "0f9X2owrCpl0",
        "colab_type": "code",
        "colab": {}
      },
      "source": [
        "accounts[\"numuser\"]=users.groupby(\"account_id\").user_id.size()\n",
        "accounts[\"numisadmin\"]=users.groupby(\"account_id\").is_admin.sum()\n",
        "accounts[\"numenabled\"]=users.groupby(\"account_id\").enabled.sum()\n",
        "accounts[\"numpending\"]=users.groupby(\"account_id\").pending.sum()\n",
        "accounts[\"numcountry\"]=users.groupby(\"account_id\").country.count()\n",
        "accounts[\"numregion\"]=users.groupby(\"account_id\").region.count()\n",
        "accounts[\"numrcity\"]=users.groupby(\"account_id\").city.count()\n",
        "accounts[\"numphoto\"]=users.groupby(\"account_id\").has_photo.sum()\n",
        "accounts[\"nummos\"]=users.groupby(\"account_id\").os.count()\n",
        "accounts[\"nummobile\"]=users.groupby(\"account_id\").device.count()\n",
        "accounts[\"nummobile2\"]=users[users[\"device\"]==\"mobile\"].groupby(\"account_id\").device.count()\n",
        "accounts[\"numchrome\"]=users[users[\"browser\"]==\"chrome\"].groupby(\"account_id\").browser.count()\n",
        "#accounts[\"vetekuser\"]=users.groupby(\"account_id\").created_at.min()\n",
        "#accounts[\"vetekactive\"]=users.groupby(\"account_id\").became_active_at.min()\n",
        "\n",
        "\n",
        "#accounts[\"vetekuser\"]=users.groupby(\"account_id\").created_at.min()\n",
        "#accounts[\"vetekactive\"]=users.groupby(\"account_id\").became_active_at.min()\n",
        "\n"
      ],
      "execution_count": 0,
      "outputs": []
    },
    {
      "cell_type": "code",
      "metadata": {
        "id": "28hS7VxA6utB",
        "colab_type": "code",
        "colab": {}
      },
      "source": [
        "#sub_df = pd.read_csv('https://storage.googleapis.com/mondaycom-datahack/final_sets/train_subscriptions.csv', nrows=7000000000)\n",
        "def upgrade(row):\n",
        "  return abs(row[\"plan_id\"]-row[\"prev_plan_id\"])>0\n",
        "\n",
        "\n",
        "subscriptions[\"plan_upgrade\"] =  subscriptions.apply(upgrade ,axis=1)\n",
        "\n",
        "subscriptions['status_success']=subscriptions['status'].fillna('SUCCESS')\n",
        "subscriptions['status_success']=subscriptions['status_success']=='SUCCESS'\n",
        "#sub_df[sub_df['status_success']==0].sum() # check if mrr=0 for status=failed\n",
        "\n",
        "account_subs=subscriptions.groupby('account_id').agg({\"subscription_id\":\"count\",\"plan_id\":\"nunique\", \"plan_upgrade\": \"mean\",\"mrr_gain\":\"sum\"})\n",
        "account_subs.rename(columns={'subscription_id':'sub_count',\n",
        "                          'plan_id':'unique_plan',\n",
        "                          \n",
        "                             'mrr_gain':'mrr_gain_sum'}, \n",
        "                 inplace=True)\n",
        "accounts=pd.merge(accounts, account_subs, on='account_id', how='left')"
      ],
      "execution_count": 0,
      "outputs": []
    },
    {
      "cell_type": "code",
      "metadata": {
        "id": "Dx8Xl1jjrrrW",
        "colab_type": "code",
        "colab": {}
      },
      "source": [
        "#events_by_account_user = events.groupby(['account_id'])['payment_events'].sum()\n",
        "accounts['browser'] = accounts['browser'].fillna('chrome')\n",
        "accounts['churn_reason'] = accounts['churn_reason'].fillna(0)\n",
        "accounts['payment_events_by_account']=events.groupby(['account_id'])['payment_events'].sum()\n",
        "accounts['payment_events_by_account'] = accounts['payment_events_by_account'].fillna(0)\n",
        "accounts['last_event_day']=events.groupby(['account_id'])['date'].max()\n",
        "# accounts['last_event_day'].fillna(accounts['subscription_started_at'])\n",
        "# from the resume data"
      ],
      "execution_count": 0,
      "outputs": []
    },
    {
      "cell_type": "code",
      "metadata": {
        "id": "BZt4tF3xyjSg",
        "colab_type": "code",
        "colab": {}
      },
      "source": [
        "\n",
        "accounts['Avg_event_by_total']=(events.groupby(['account_id']).total_events.sum()/events.groupby(['account_id']).date.count())\n",
        "accounts['Avg_event_by_column']=(events.groupby(['account_id']).column_events.sum()/events.groupby(['account_id']).date.count())\n",
        "accounts['Avg_event_by_board']=(events.groupby(['account_id']).board_events.sum()/events.groupby(['account_id']).date.count())\n",
        "accounts['Avg_event_by_num']=(events.groupby(['account_id']).num_of_boards.sum()/events.groupby(['account_id']).date.count())\n",
        "accounts['Avg_event_by_count']=(events.groupby(['account_id']).count_kind_columns.sum()/events.groupby(['account_id']).date.count())\n",
        "accounts['Avg_event_by_content']=(events.groupby(['account_id']).content_events.sum()/events.groupby(['account_id']).date.count())\n",
        "accounts['Avg_event_by_group']=(events.groupby(['account_id']).group_events.sum()/events.groupby(['account_id']).date.count())\n",
        "accounts['Avg_event_by_invite']=(events.groupby(['account_id']).invite_events.sum()/events.groupby(['account_id']).date.count())\n",
        "accounts['Avg_event_by_import']=(events.groupby(['account_id']).import_events.sum()/events.groupby(['account_id']).date.count())\n",
        "accounts['Avg_event_by_notification']=(events.groupby(['account_id']).notification_events.sum()/events.groupby(['account_id']).date.count())\n",
        "accounts['Avg_event_by_new']=(events.groupby(['account_id']).new_entry_events.sum()/events.groupby(['account_id']).date.count())\n",
        "accounts['Avg_event_by_payment']=(events.groupby(['account_id']).payment_events.sum()/events.groupby(['account_id']).date.count())\n",
        "accounts['Avg_event_by_inbox']=(events.groupby(['account_id']).inbox_events.sum()/events.groupby(['account_id']).date.count())\n",
        "accounts['Avg_event_by_communicating']=(events.groupby(['account_id']).communicating_events.sum()/events.groupby(['account_id']).date.count())\n",
        "accounts['Avg_event_by_non']=(events.groupby(['account_id']).non_communicating_events.sum()/events.groupby(['account_id']).date.count())\n",
        "accounts['Avg_event_by_web']=(events.groupby(['account_id']).web_events.sum()/events.groupby(['account_id']).date.count())\n",
        "accounts['Avg_event_by_ios']=(events.groupby(['account_id']).ios_events.sum()/events.groupby(['account_id']).date.count())\n",
        "accounts['Avg_event_by_android']=(events.groupby(['account_id']).android_events.sum()/events.groupby(['account_id']).date.count())\n",
        "accounts['Avg_event_by_desktop']=(events.groupby(['account_id']).desktop_app_events.sum()/events.groupby(['account_id']).date.count())\n",
        "accounts['Avg_event_by_empty']=(events.groupby(['account_id']).empty_events.sum()/events.groupby(['account_id']).date.count())\n",
        "\n",
        "\n",
        "accounts['P_event_by_column']=events.groupby(['account_id']).column_events.sum()/(events.groupby(['account_id']).total_events.sum())                                                                   \n",
        "accounts['P_event_by_board']=events.groupby(['account_id'])['board_events'].sum()/(events.groupby(['account_id']).total_events.sum())                                                 \n",
        "accounts['P_event_by_num']=events.groupby(['account_id']).num_of_boards.sum()/(events.groupby(['account_id']).total_events.sum())\n",
        "accounts['P_event_by_count']=events.groupby(['account_id']).count_kind_columns.sum()/(events.groupby(['account_id']).total_events.sum())\n",
        "accounts['P_event_by_content']=events.groupby(['account_id']).content_events.sum()/(events.groupby(['account_id']).total_events.sum())\n",
        "accounts['P_event_by_group']=events.groupby(['account_id']).group_events.sum()/(events.groupby(['account_id']).total_events.sum())\n",
        "accounts['P_event_by_invite']=events.groupby(['account_id']).invite_events.sum()/(events.groupby(['account_id']).total_events.sum())\n",
        "accounts['P_event_by_import']=events.groupby(['account_id']).import_events.sum()/(events.groupby(['account_id']).total_events.sum())                                                                \n",
        "accounts['P_event_by_notification']=events.groupby(['account_id']).notification_events.sum()/(events.groupby(['account_id']).total_events.sum())\n",
        "accounts['P_event_by_new']=events.groupby(['account_id']).new_entry_events.sum()/(events.groupby(['account_id']).total_events.sum())\n",
        "accounts['P_event_by_payment']=events.groupby(['account_id']).payment_events.sum()/(events.groupby(['account_id']).total_events.sum())\n",
        "accounts['P_event_by_inbox']=events.groupby(['account_id']).inbox_events.sum()/(events.groupby(['account_id']).total_events.sum())\n",
        "accounts['P_event_by_communicating']=events.groupby(['account_id']).communicating_events.sum()/(events.groupby(['account_id']).total_events.sum())\n",
        "accounts['P_event_by_non']=events.groupby(['account_id']).non_communicating_events.sum()/(events.groupby(['account_id']).total_events.sum())\n",
        "accounts['P_event_by_web']=events.groupby(['account_id']).web_events.sum()/(events.groupby(['account_id']).total_events.sum())\n",
        "accounts['P_event_by_ios']=events.groupby(['account_id']).ios_events.sum()/(events.groupby(['account_id']).total_events.sum())\n",
        "accounts['P_event_by_android']=events.groupby(['account_id']).android_events.sum()/(events.groupby(['account_id']).total_events.sum())\n",
        "accounts['P_event_by_desktop']=events.groupby(['account_id']).desktop_app_events.sum()/(events.groupby(['account_id']).total_events.sum())\n",
        "accounts['P_event_by_empty']=events.groupby(['account_id']).empty_events.sum()/(events.groupby(['account_id']).total_events.sum())\n",
        "\n"
      ],
      "execution_count": 0,
      "outputs": []
    },
    {
      "cell_type": "code",
      "metadata": {
        "id": "-u2yzKUsKqsa",
        "colab_type": "code",
        "colab": {}
      },
      "source": [
        "all_features=accounts"
      ],
      "execution_count": 0,
      "outputs": []
    },
    {
      "cell_type": "code",
      "metadata": {
        "id": "acqwq8wE16Af",
        "colab_type": "code",
        "colab": {
          "base_uri": "https://localhost:8080/",
          "height": 363
        },
        "outputId": "b1efed35-99fd-4c3e-e3b1-d041001d2390"
      },
      "source": [
        "all_features.head()"
      ],
      "execution_count": 197,
      "outputs": [
        {
          "output_type": "execute_result",
          "data": {
            "text/html": [
              "<div>\n",
              "<style scoped>\n",
              "    .dataframe tbody tr th:only-of-type {\n",
              "        vertical-align: middle;\n",
              "    }\n",
              "\n",
              "    .dataframe tbody tr th {\n",
              "        vertical-align: top;\n",
              "    }\n",
              "\n",
              "    .dataframe thead th {\n",
              "        text-align: right;\n",
              "    }\n",
              "</style>\n",
              "<table border=\"1\" class=\"dataframe\">\n",
              "  <thead>\n",
              "    <tr style=\"text-align: right;\">\n",
              "      <th></th>\n",
              "      <th>account_id</th>\n",
              "      <th>account_name</th>\n",
              "      <th>browser</th>\n",
              "      <th>churn_date</th>\n",
              "      <th>churn_reason</th>\n",
              "      <th>collection_21_days</th>\n",
              "      <th>company_size</th>\n",
              "      <th>country</th>\n",
              "      <th>created_at</th>\n",
              "      <th>device</th>\n",
              "      <th>has_logo</th>\n",
              "      <th>industry</th>\n",
              "      <th>lead_score</th>\n",
              "      <th>max_team_size</th>\n",
              "      <th>min_team_size</th>\n",
              "      <th>mrr</th>\n",
              "      <th>os</th>\n",
              "      <th>paying</th>\n",
              "      <th>payment_currency</th>\n",
              "      <th>plan_id</th>\n",
              "      <th>region</th>\n",
              "      <th>subscription_started_at</th>\n",
              "      <th>team_size</th>\n",
              "      <th>time_diff</th>\n",
              "      <th>trial_start</th>\n",
              "      <th>user_description</th>\n",
              "      <th>user_goal</th>\n",
              "      <th>utm_cluster_id</th>\n",
              "      <th>numuser</th>\n",
              "      <th>numisadmin</th>\n",
              "      <th>numenabled</th>\n",
              "      <th>numpending</th>\n",
              "      <th>numcountry</th>\n",
              "      <th>numregion</th>\n",
              "      <th>numrcity</th>\n",
              "      <th>numphoto</th>\n",
              "      <th>nummos</th>\n",
              "      <th>nummobile</th>\n",
              "      <th>nummobile2</th>\n",
              "      <th>numchrome</th>\n",
              "      <th>...</th>\n",
              "      <th>last_event_day</th>\n",
              "      <th>Avg_event_by_total</th>\n",
              "      <th>Avg_event_by_column</th>\n",
              "      <th>Avg_event_by_board</th>\n",
              "      <th>Avg_event_by_num</th>\n",
              "      <th>Avg_event_by_count</th>\n",
              "      <th>Avg_event_by_content</th>\n",
              "      <th>Avg_event_by_group</th>\n",
              "      <th>Avg_event_by_invite</th>\n",
              "      <th>Avg_event_by_import</th>\n",
              "      <th>Avg_event_by_notification</th>\n",
              "      <th>Avg_event_by_new</th>\n",
              "      <th>Avg_event_by_payment</th>\n",
              "      <th>Avg_event_by_inbox</th>\n",
              "      <th>Avg_event_by_communicating</th>\n",
              "      <th>Avg_event_by_non</th>\n",
              "      <th>Avg_event_by_web</th>\n",
              "      <th>Avg_event_by_ios</th>\n",
              "      <th>Avg_event_by_android</th>\n",
              "      <th>Avg_event_by_desktop</th>\n",
              "      <th>Avg_event_by_empty</th>\n",
              "      <th>P_event_by_column</th>\n",
              "      <th>P_event_by_board</th>\n",
              "      <th>P_event_by_num</th>\n",
              "      <th>P_event_by_count</th>\n",
              "      <th>P_event_by_content</th>\n",
              "      <th>P_event_by_group</th>\n",
              "      <th>P_event_by_invite</th>\n",
              "      <th>P_event_by_import</th>\n",
              "      <th>P_event_by_notification</th>\n",
              "      <th>P_event_by_new</th>\n",
              "      <th>P_event_by_payment</th>\n",
              "      <th>P_event_by_inbox</th>\n",
              "      <th>P_event_by_communicating</th>\n",
              "      <th>P_event_by_non</th>\n",
              "      <th>P_event_by_web</th>\n",
              "      <th>P_event_by_ios</th>\n",
              "      <th>P_event_by_android</th>\n",
              "      <th>P_event_by_desktop</th>\n",
              "      <th>P_event_by_empty</th>\n",
              "    </tr>\n",
              "  </thead>\n",
              "  <tbody>\n",
              "    <tr>\n",
              "      <th>0</th>\n",
              "      <td>1.0</td>\n",
              "      <td>Gardner, Barron and Keller</td>\n",
              "      <td>microsoft edge</td>\n",
              "      <td>NaN</td>\n",
              "      <td>0.0</td>\n",
              "      <td>0</td>\n",
              "      <td>NaN</td>\n",
              "      <td>AU</td>\n",
              "      <td>2019-01-01 00:01:15</td>\n",
              "      <td>desktop</td>\n",
              "      <td>1</td>\n",
              "      <td>NaN</td>\n",
              "      <td>0.0</td>\n",
              "      <td>5.0</td>\n",
              "      <td>2.0</td>\n",
              "      <td>NaN</td>\n",
              "      <td>windows</td>\n",
              "      <td>0</td>\n",
              "      <td>AUD</td>\n",
              "      <td>NaN</td>\n",
              "      <td>New South Wales</td>\n",
              "      <td>NaN</td>\n",
              "      <td>NaN</td>\n",
              "      <td>11.0</td>\n",
              "      <td>2019-01-01 00:01:15</td>\n",
              "      <td>NaN</td>\n",
              "      <td>NaN</td>\n",
              "      <td>orders</td>\n",
              "      <td>NaN</td>\n",
              "      <td>NaN</td>\n",
              "      <td>NaN</td>\n",
              "      <td>NaN</td>\n",
              "      <td>NaN</td>\n",
              "      <td>NaN</td>\n",
              "      <td>NaN</td>\n",
              "      <td>NaN</td>\n",
              "      <td>NaN</td>\n",
              "      <td>NaN</td>\n",
              "      <td>NaN</td>\n",
              "      <td>NaN</td>\n",
              "      <td>...</td>\n",
              "      <td>NaN</td>\n",
              "      <td>NaN</td>\n",
              "      <td>NaN</td>\n",
              "      <td>NaN</td>\n",
              "      <td>NaN</td>\n",
              "      <td>NaN</td>\n",
              "      <td>NaN</td>\n",
              "      <td>NaN</td>\n",
              "      <td>NaN</td>\n",
              "      <td>NaN</td>\n",
              "      <td>NaN</td>\n",
              "      <td>NaN</td>\n",
              "      <td>NaN</td>\n",
              "      <td>NaN</td>\n",
              "      <td>NaN</td>\n",
              "      <td>NaN</td>\n",
              "      <td>NaN</td>\n",
              "      <td>NaN</td>\n",
              "      <td>NaN</td>\n",
              "      <td>NaN</td>\n",
              "      <td>NaN</td>\n",
              "      <td>NaN</td>\n",
              "      <td>NaN</td>\n",
              "      <td>NaN</td>\n",
              "      <td>NaN</td>\n",
              "      <td>NaN</td>\n",
              "      <td>NaN</td>\n",
              "      <td>NaN</td>\n",
              "      <td>NaN</td>\n",
              "      <td>NaN</td>\n",
              "      <td>NaN</td>\n",
              "      <td>NaN</td>\n",
              "      <td>NaN</td>\n",
              "      <td>NaN</td>\n",
              "      <td>NaN</td>\n",
              "      <td>NaN</td>\n",
              "      <td>NaN</td>\n",
              "      <td>NaN</td>\n",
              "      <td>NaN</td>\n",
              "      <td>NaN</td>\n",
              "    </tr>\n",
              "    <tr>\n",
              "      <th>1</th>\n",
              "      <td>2.0</td>\n",
              "      <td>Dunn Ltd</td>\n",
              "      <td>chrome</td>\n",
              "      <td>NaN</td>\n",
              "      <td>0.0</td>\n",
              "      <td>0</td>\n",
              "      <td>NaN</td>\n",
              "      <td>US</td>\n",
              "      <td>2019-01-01 00:01:52</td>\n",
              "      <td>mobile</td>\n",
              "      <td>1</td>\n",
              "      <td>NaN</td>\n",
              "      <td>0.0</td>\n",
              "      <td>5.0</td>\n",
              "      <td>2.0</td>\n",
              "      <td>NaN</td>\n",
              "      <td>ios</td>\n",
              "      <td>0</td>\n",
              "      <td>USD</td>\n",
              "      <td>NaN</td>\n",
              "      <td>New Jersey</td>\n",
              "      <td>NaN</td>\n",
              "      <td>NaN</td>\n",
              "      <td>NaN</td>\n",
              "      <td>2019-01-01 00:01:52</td>\n",
              "      <td>NaN</td>\n",
              "      <td>NaN</td>\n",
              "      <td>NaN</td>\n",
              "      <td>1.0</td>\n",
              "      <td>1.0</td>\n",
              "      <td>1.0</td>\n",
              "      <td>0.0</td>\n",
              "      <td>1.0</td>\n",
              "      <td>1.0</td>\n",
              "      <td>1.0</td>\n",
              "      <td>1.0</td>\n",
              "      <td>1.0</td>\n",
              "      <td>1.0</td>\n",
              "      <td>NaN</td>\n",
              "      <td>NaN</td>\n",
              "      <td>...</td>\n",
              "      <td>2019-01-14</td>\n",
              "      <td>8.833333</td>\n",
              "      <td>0.0</td>\n",
              "      <td>0.000000</td>\n",
              "      <td>0.000000</td>\n",
              "      <td>0.0</td>\n",
              "      <td>0.000000</td>\n",
              "      <td>0.0</td>\n",
              "      <td>0.0</td>\n",
              "      <td>0.166667</td>\n",
              "      <td>0.0</td>\n",
              "      <td>0.166667</td>\n",
              "      <td>0.0</td>\n",
              "      <td>0.166667</td>\n",
              "      <td>0.000000</td>\n",
              "      <td>0.333333</td>\n",
              "      <td>5.500000</td>\n",
              "      <td>0.000000</td>\n",
              "      <td>0.00</td>\n",
              "      <td>0.0</td>\n",
              "      <td>1.166667</td>\n",
              "      <td>0.0</td>\n",
              "      <td>0.000000</td>\n",
              "      <td>0.000000</td>\n",
              "      <td>0.0</td>\n",
              "      <td>0.000000</td>\n",
              "      <td>0.0</td>\n",
              "      <td>0.0</td>\n",
              "      <td>0.018868</td>\n",
              "      <td>0.000000</td>\n",
              "      <td>0.018868</td>\n",
              "      <td>0.0</td>\n",
              "      <td>0.018868</td>\n",
              "      <td>0.000000</td>\n",
              "      <td>0.037736</td>\n",
              "      <td>0.622642</td>\n",
              "      <td>0.000000</td>\n",
              "      <td>0.000000</td>\n",
              "      <td>0.0</td>\n",
              "      <td>0.132075</td>\n",
              "    </tr>\n",
              "    <tr>\n",
              "      <th>2</th>\n",
              "      <td>3.0</td>\n",
              "      <td>Boone Inc</td>\n",
              "      <td>chrome</td>\n",
              "      <td>NaN</td>\n",
              "      <td>0.0</td>\n",
              "      <td>0</td>\n",
              "      <td>NaN</td>\n",
              "      <td>US</td>\n",
              "      <td>2019-01-01 00:03:12</td>\n",
              "      <td>desktop</td>\n",
              "      <td>1</td>\n",
              "      <td>Other</td>\n",
              "      <td>0.0</td>\n",
              "      <td>1.0</td>\n",
              "      <td>1.0</td>\n",
              "      <td>NaN</td>\n",
              "      <td>windows</td>\n",
              "      <td>0</td>\n",
              "      <td>USD</td>\n",
              "      <td>NaN</td>\n",
              "      <td>Louisiana</td>\n",
              "      <td>NaN</td>\n",
              "      <td>1</td>\n",
              "      <td>-6.0</td>\n",
              "      <td>2019-01-01 00:03:12</td>\n",
              "      <td>NaN</td>\n",
              "      <td>NaN</td>\n",
              "      <td>todos</td>\n",
              "      <td>2.0</td>\n",
              "      <td>1.0</td>\n",
              "      <td>2.0</td>\n",
              "      <td>0.0</td>\n",
              "      <td>2.0</td>\n",
              "      <td>2.0</td>\n",
              "      <td>2.0</td>\n",
              "      <td>2.0</td>\n",
              "      <td>2.0</td>\n",
              "      <td>2.0</td>\n",
              "      <td>2.0</td>\n",
              "      <td>NaN</td>\n",
              "      <td>...</td>\n",
              "      <td>2019-01-14</td>\n",
              "      <td>119.000000</td>\n",
              "      <td>0.0</td>\n",
              "      <td>0.000000</td>\n",
              "      <td>0.000000</td>\n",
              "      <td>0.0</td>\n",
              "      <td>0.000000</td>\n",
              "      <td>0.0</td>\n",
              "      <td>0.0</td>\n",
              "      <td>0.000000</td>\n",
              "      <td>0.5</td>\n",
              "      <td>2.250000</td>\n",
              "      <td>0.0</td>\n",
              "      <td>0.000000</td>\n",
              "      <td>0.583333</td>\n",
              "      <td>2.250000</td>\n",
              "      <td>0.000000</td>\n",
              "      <td>94.833333</td>\n",
              "      <td>15.25</td>\n",
              "      <td>0.0</td>\n",
              "      <td>0.666667</td>\n",
              "      <td>0.0</td>\n",
              "      <td>0.000000</td>\n",
              "      <td>0.000000</td>\n",
              "      <td>0.0</td>\n",
              "      <td>0.000000</td>\n",
              "      <td>0.0</td>\n",
              "      <td>0.0</td>\n",
              "      <td>0.000000</td>\n",
              "      <td>0.004202</td>\n",
              "      <td>0.018908</td>\n",
              "      <td>0.0</td>\n",
              "      <td>0.000000</td>\n",
              "      <td>0.004902</td>\n",
              "      <td>0.018908</td>\n",
              "      <td>0.000000</td>\n",
              "      <td>0.796919</td>\n",
              "      <td>0.128151</td>\n",
              "      <td>0.0</td>\n",
              "      <td>0.005602</td>\n",
              "    </tr>\n",
              "    <tr>\n",
              "      <th>3</th>\n",
              "      <td>4.0</td>\n",
              "      <td>Christian, Carroll and Davis</td>\n",
              "      <td>chrome</td>\n",
              "      <td>NaN</td>\n",
              "      <td>0.0</td>\n",
              "      <td>0</td>\n",
              "      <td>NaN</td>\n",
              "      <td>IL</td>\n",
              "      <td>2019-01-01 00:04:11</td>\n",
              "      <td>mobile</td>\n",
              "      <td>1</td>\n",
              "      <td>NaN</td>\n",
              "      <td>0.0</td>\n",
              "      <td>NaN</td>\n",
              "      <td>NaN</td>\n",
              "      <td>NaN</td>\n",
              "      <td>android</td>\n",
              "      <td>0</td>\n",
              "      <td>USD</td>\n",
              "      <td>NaN</td>\n",
              "      <td>Tel Aviv</td>\n",
              "      <td>NaN</td>\n",
              "      <td>NaN</td>\n",
              "      <td>NaN</td>\n",
              "      <td>2019-01-01 00:04:11</td>\n",
              "      <td>NaN</td>\n",
              "      <td>NaN</td>\n",
              "      <td>NaN</td>\n",
              "      <td>1.0</td>\n",
              "      <td>1.0</td>\n",
              "      <td>1.0</td>\n",
              "      <td>0.0</td>\n",
              "      <td>1.0</td>\n",
              "      <td>1.0</td>\n",
              "      <td>1.0</td>\n",
              "      <td>1.0</td>\n",
              "      <td>1.0</td>\n",
              "      <td>1.0</td>\n",
              "      <td>NaN</td>\n",
              "      <td>1.0</td>\n",
              "      <td>...</td>\n",
              "      <td>2019-01-14</td>\n",
              "      <td>12.000000</td>\n",
              "      <td>0.0</td>\n",
              "      <td>0.166667</td>\n",
              "      <td>0.166667</td>\n",
              "      <td>0.0</td>\n",
              "      <td>0.166667</td>\n",
              "      <td>0.0</td>\n",
              "      <td>0.0</td>\n",
              "      <td>0.333333</td>\n",
              "      <td>0.0</td>\n",
              "      <td>0.166667</td>\n",
              "      <td>0.0</td>\n",
              "      <td>0.166667</td>\n",
              "      <td>0.166667</td>\n",
              "      <td>0.833333</td>\n",
              "      <td>8.666667</td>\n",
              "      <td>0.000000</td>\n",
              "      <td>0.00</td>\n",
              "      <td>0.0</td>\n",
              "      <td>1.500000</td>\n",
              "      <td>0.0</td>\n",
              "      <td>0.013889</td>\n",
              "      <td>0.013889</td>\n",
              "      <td>0.0</td>\n",
              "      <td>0.013889</td>\n",
              "      <td>0.0</td>\n",
              "      <td>0.0</td>\n",
              "      <td>0.027778</td>\n",
              "      <td>0.000000</td>\n",
              "      <td>0.013889</td>\n",
              "      <td>0.0</td>\n",
              "      <td>0.013889</td>\n",
              "      <td>0.013889</td>\n",
              "      <td>0.069444</td>\n",
              "      <td>0.722222</td>\n",
              "      <td>0.000000</td>\n",
              "      <td>0.000000</td>\n",
              "      <td>0.0</td>\n",
              "      <td>0.125000</td>\n",
              "    </tr>\n",
              "    <tr>\n",
              "      <th>4</th>\n",
              "      <td>5.0</td>\n",
              "      <td>Brooks-Oliver</td>\n",
              "      <td>chrome</td>\n",
              "      <td>NaN</td>\n",
              "      <td>0.0</td>\n",
              "      <td>0</td>\n",
              "      <td>NaN</td>\n",
              "      <td>US</td>\n",
              "      <td>2019-01-01 00:04:21</td>\n",
              "      <td>desktop</td>\n",
              "      <td>1</td>\n",
              "      <td>Design</td>\n",
              "      <td>0.0</td>\n",
              "      <td>1.0</td>\n",
              "      <td>1.0</td>\n",
              "      <td>NaN</td>\n",
              "      <td>chrome_os</td>\n",
              "      <td>0</td>\n",
              "      <td>USD</td>\n",
              "      <td>NaN</td>\n",
              "      <td>North Carolina</td>\n",
              "      <td>NaN</td>\n",
              "      <td>1</td>\n",
              "      <td>-5.0</td>\n",
              "      <td>2019-04-04 11:09:12</td>\n",
              "      <td>NaN</td>\n",
              "      <td>NaN</td>\n",
              "      <td>todos</td>\n",
              "      <td>1.0</td>\n",
              "      <td>1.0</td>\n",
              "      <td>1.0</td>\n",
              "      <td>0.0</td>\n",
              "      <td>1.0</td>\n",
              "      <td>1.0</td>\n",
              "      <td>1.0</td>\n",
              "      <td>1.0</td>\n",
              "      <td>1.0</td>\n",
              "      <td>1.0</td>\n",
              "      <td>1.0</td>\n",
              "      <td>NaN</td>\n",
              "      <td>...</td>\n",
              "      <td>2019-01-14</td>\n",
              "      <td>13.857143</td>\n",
              "      <td>0.0</td>\n",
              "      <td>0.000000</td>\n",
              "      <td>0.000000</td>\n",
              "      <td>0.0</td>\n",
              "      <td>0.000000</td>\n",
              "      <td>0.0</td>\n",
              "      <td>0.0</td>\n",
              "      <td>0.000000</td>\n",
              "      <td>0.0</td>\n",
              "      <td>0.285714</td>\n",
              "      <td>0.0</td>\n",
              "      <td>0.000000</td>\n",
              "      <td>0.000000</td>\n",
              "      <td>0.285714</td>\n",
              "      <td>0.000000</td>\n",
              "      <td>0.000000</td>\n",
              "      <td>6.00</td>\n",
              "      <td>0.0</td>\n",
              "      <td>1.000000</td>\n",
              "      <td>0.0</td>\n",
              "      <td>0.000000</td>\n",
              "      <td>0.000000</td>\n",
              "      <td>0.0</td>\n",
              "      <td>0.000000</td>\n",
              "      <td>0.0</td>\n",
              "      <td>0.0</td>\n",
              "      <td>0.000000</td>\n",
              "      <td>0.000000</td>\n",
              "      <td>0.020619</td>\n",
              "      <td>0.0</td>\n",
              "      <td>0.000000</td>\n",
              "      <td>0.000000</td>\n",
              "      <td>0.020619</td>\n",
              "      <td>0.000000</td>\n",
              "      <td>0.000000</td>\n",
              "      <td>0.432990</td>\n",
              "      <td>0.0</td>\n",
              "      <td>0.072165</td>\n",
              "    </tr>\n",
              "  </tbody>\n",
              "</table>\n",
              "<p>5 rows × 85 columns</p>\n",
              "</div>"
            ],
            "text/plain": [
              "   account_id  ... P_event_by_empty\n",
              "0         1.0  ...              NaN\n",
              "1         2.0  ...         0.132075\n",
              "2         3.0  ...         0.005602\n",
              "3         4.0  ...         0.125000\n",
              "4         5.0  ...         0.072165\n",
              "\n",
              "[5 rows x 85 columns]"
            ]
          },
          "metadata": {
            "tags": []
          },
          "execution_count": 197
        }
      ]
    },
    {
      "cell_type": "code",
      "metadata": {
        "id": "qfUboEib17-A",
        "colab_type": "code",
        "colab": {}
      },
      "source": [
        ""
      ],
      "execution_count": 0,
      "outputs": []
    },
    {
      "cell_type": "code",
      "metadata": {
        "id": "moN6itpxQAGi",
        "colab_type": "code",
        "outputId": "e9c16e3a-f8ad-4740-a335-c50c1b59f7fb",
        "colab": {
          "base_uri": "https://localhost:8080/",
          "height": 34
        }
      },
      "source": [
        "all_features[all_features['lead_score'].isna()].shape[0]"
      ],
      "execution_count": 162,
      "outputs": [
        {
          "output_type": "execute_result",
          "data": {
            "text/plain": [
              "71683"
            ]
          },
          "metadata": {
            "tags": []
          },
          "execution_count": 162
        }
      ]
    },
    {
      "cell_type": "markdown",
      "metadata": {
        "id": "SngUmaPImHZF",
        "colab_type": "text"
      },
      "source": [
        "###Data preperation\n",
        "After we created our raw features we need to make sure the fit the way our ML model expects to receive them."
      ]
    },
    {
      "cell_type": "code",
      "metadata": {
        "id": "z-KJGAevD0iT",
        "colab_type": "code",
        "colab": {}
      },
      "source": [
        "# We map our features into different types\n",
        "categorical_features = ['country', 'device',  'industry','os', 'payment_currency','plan_id', 'region','user_goal',\n",
        "                       'utm_cluster_id','team_size', 'browser' , 'churn_reason']\n",
        "\n",
        "normalized_features = ['collection_21_days', 'company_size', 'max_team_size', 'min_team_size','mrr',\n",
        "                       \"numuser\", \"numisadmin\",  \"numenabled\", \"numpending\",\"numcountry\", \"numcountry\", \n",
        "                     \"numregion\",\"numrcity\",  \"numphoto\", \"nummos\", \"nummobile\", \"nummobile2\",  \"numchrome\", 'time_diff',\n",
        "                      'plan_upgrade', 'payment_events_by_account'\n",
        "                      ,'Avg_event_by_total', 'Avg_event_by_column','Avg_event_by_board','Avg_event_by_num','Avg_event_by_count',\n",
        "                     'Avg_event_by_content','Avg_event_by_group','Avg_event_by_invite','Avg_event_by_import','Avg_event_by_notification',\n",
        "                      'Avg_event_by_new','Avg_event_by_payment','Avg_event_by_inbox','Avg_event_by_communicating','Avg_event_by_non',\n",
        "                      'Avg_event_by_web','Avg_event_by_ios','Avg_event_by_android','Avg_event_by_desktop','Avg_event_by_empty',\n",
        "                      'P_event_by_column','P_event_by_board','P_event_by_num','P_event_by_count','P_event_by_content','P_event_by_group',\n",
        "                      'P_event_by_invite','P_event_by_import','P_event_by_notification','P_event_by_new','P_event_by_payment',\n",
        "                      'P_event_by_inbox','P_event_by_communicating','P_event_by_non','P_event_by_web','P_event_by_ios','P_event_by_android',\n",
        "                      'P_event_by_desktop','P_event_by_empty', 'sub_count', 'mrr_gain_sum','unique_plan'\n",
        "                      ]\n",
        "\n",
        "binary_features = ['paying', 'has_logo']\n",
        "\n",
        "untouched_features = ['account_id']\n",
        "\n",
        "target = ['lead_score']\n",
        "\n",
        "# And create a column transformer to handle the manipulation for us\n",
        "preprocess = make_column_transformer(\n",
        "    (OneHotEncoder(), categorical_features),\n",
        "    (Normalizer(), normalized_features),\n",
        "    (Binarizer(), binary_features)\n",
        ")\n"
      ],
      "execution_count": 0,
      "outputs": []
    },
    {
      "cell_type": "code",
      "metadata": {
        "id": "Qhva5OoD_Bu3",
        "colab_type": "code",
        "colab": {
          "base_uri": "https://localhost:8080/",
          "height": 307
        },
        "outputId": "5b1c6a51-4129-43e7-8869-008917619ccb"
      },
      "source": [
        "accounts.describe()\n"
      ],
      "execution_count": 199,
      "outputs": [
        {
          "output_type": "execute_result",
          "data": {
            "text/html": [
              "<div>\n",
              "<style scoped>\n",
              "    .dataframe tbody tr th:only-of-type {\n",
              "        vertical-align: middle;\n",
              "    }\n",
              "\n",
              "    .dataframe tbody tr th {\n",
              "        vertical-align: top;\n",
              "    }\n",
              "\n",
              "    .dataframe thead th {\n",
              "        text-align: right;\n",
              "    }\n",
              "</style>\n",
              "<table border=\"1\" class=\"dataframe\">\n",
              "  <thead>\n",
              "    <tr style=\"text-align: right;\">\n",
              "      <th></th>\n",
              "      <th>account_id</th>\n",
              "      <th>churn_reason</th>\n",
              "      <th>collection_21_days</th>\n",
              "      <th>company_size</th>\n",
              "      <th>has_logo</th>\n",
              "      <th>lead_score</th>\n",
              "      <th>max_team_size</th>\n",
              "      <th>min_team_size</th>\n",
              "      <th>mrr</th>\n",
              "      <th>paying</th>\n",
              "      <th>plan_id</th>\n",
              "      <th>time_diff</th>\n",
              "      <th>numuser</th>\n",
              "      <th>numisadmin</th>\n",
              "      <th>numenabled</th>\n",
              "      <th>numpending</th>\n",
              "      <th>numcountry</th>\n",
              "      <th>numregion</th>\n",
              "      <th>numrcity</th>\n",
              "      <th>numphoto</th>\n",
              "      <th>nummos</th>\n",
              "      <th>nummobile</th>\n",
              "      <th>nummobile2</th>\n",
              "      <th>numchrome</th>\n",
              "      <th>sub_count</th>\n",
              "      <th>unique_plan</th>\n",
              "      <th>plan_upgrade</th>\n",
              "      <th>mrr_gain_sum</th>\n",
              "      <th>payment_events_by_account</th>\n",
              "      <th>Avg_event_by_total</th>\n",
              "      <th>Avg_event_by_column</th>\n",
              "      <th>Avg_event_by_board</th>\n",
              "      <th>Avg_event_by_num</th>\n",
              "      <th>Avg_event_by_count</th>\n",
              "      <th>Avg_event_by_content</th>\n",
              "      <th>Avg_event_by_group</th>\n",
              "      <th>Avg_event_by_invite</th>\n",
              "      <th>Avg_event_by_import</th>\n",
              "      <th>Avg_event_by_notification</th>\n",
              "      <th>Avg_event_by_new</th>\n",
              "      <th>Avg_event_by_payment</th>\n",
              "      <th>Avg_event_by_inbox</th>\n",
              "      <th>Avg_event_by_communicating</th>\n",
              "      <th>Avg_event_by_non</th>\n",
              "      <th>Avg_event_by_web</th>\n",
              "      <th>Avg_event_by_ios</th>\n",
              "      <th>Avg_event_by_android</th>\n",
              "      <th>Avg_event_by_desktop</th>\n",
              "      <th>Avg_event_by_empty</th>\n",
              "      <th>P_event_by_column</th>\n",
              "      <th>P_event_by_board</th>\n",
              "      <th>P_event_by_num</th>\n",
              "      <th>P_event_by_count</th>\n",
              "      <th>P_event_by_content</th>\n",
              "      <th>P_event_by_group</th>\n",
              "      <th>P_event_by_invite</th>\n",
              "      <th>P_event_by_import</th>\n",
              "      <th>P_event_by_notification</th>\n",
              "      <th>P_event_by_new</th>\n",
              "      <th>P_event_by_payment</th>\n",
              "      <th>P_event_by_inbox</th>\n",
              "      <th>P_event_by_communicating</th>\n",
              "      <th>P_event_by_non</th>\n",
              "      <th>P_event_by_web</th>\n",
              "      <th>P_event_by_ios</th>\n",
              "      <th>P_event_by_android</th>\n",
              "      <th>P_event_by_desktop</th>\n",
              "      <th>P_event_by_empty</th>\n",
              "    </tr>\n",
              "  </thead>\n",
              "  <tbody>\n",
              "    <tr>\n",
              "      <th>count</th>\n",
              "      <td>1.433661e+06</td>\n",
              "      <td>1.433661e+06</td>\n",
              "      <td>1.433661e+06</td>\n",
              "      <td>2.984880e+05</td>\n",
              "      <td>1433661.0</td>\n",
              "      <td>1.361978e+06</td>\n",
              "      <td>1.278324e+06</td>\n",
              "      <td>1.278324e+06</td>\n",
              "      <td>48000.000000</td>\n",
              "      <td>1.433661e+06</td>\n",
              "      <td>30089.000000</td>\n",
              "      <td>1.191655e+06</td>\n",
              "      <td>1.432202e+06</td>\n",
              "      <td>1.432202e+06</td>\n",
              "      <td>1.432202e+06</td>\n",
              "      <td>1.432202e+06</td>\n",
              "      <td>1.432202e+06</td>\n",
              "      <td>1.432202e+06</td>\n",
              "      <td>1.432202e+06</td>\n",
              "      <td>1.432202e+06</td>\n",
              "      <td>1.432202e+06</td>\n",
              "      <td>1.432202e+06</td>\n",
              "      <td>455338.000000</td>\n",
              "      <td>917330.000000</td>\n",
              "      <td>34424.000000</td>\n",
              "      <td>34424.000000</td>\n",
              "      <td>34424.000000</td>\n",
              "      <td>34424.000000</td>\n",
              "      <td>1.433661e+06</td>\n",
              "      <td>1.433219e+06</td>\n",
              "      <td>1.433219e+06</td>\n",
              "      <td>1.433219e+06</td>\n",
              "      <td>1.433219e+06</td>\n",
              "      <td>1.433219e+06</td>\n",
              "      <td>1.433219e+06</td>\n",
              "      <td>1.433219e+06</td>\n",
              "      <td>1.433219e+06</td>\n",
              "      <td>1.433219e+06</td>\n",
              "      <td>1.433219e+06</td>\n",
              "      <td>1.433219e+06</td>\n",
              "      <td>1.433219e+06</td>\n",
              "      <td>1.433219e+06</td>\n",
              "      <td>1.433219e+06</td>\n",
              "      <td>1.433219e+06</td>\n",
              "      <td>1.433219e+06</td>\n",
              "      <td>1.433219e+06</td>\n",
              "      <td>1.433219e+06</td>\n",
              "      <td>1.433219e+06</td>\n",
              "      <td>1.433219e+06</td>\n",
              "      <td>1.433219e+06</td>\n",
              "      <td>1.433219e+06</td>\n",
              "      <td>1.433219e+06</td>\n",
              "      <td>1.433219e+06</td>\n",
              "      <td>1.433219e+06</td>\n",
              "      <td>1.433219e+06</td>\n",
              "      <td>1.433219e+06</td>\n",
              "      <td>1.433219e+06</td>\n",
              "      <td>1.433219e+06</td>\n",
              "      <td>1.433219e+06</td>\n",
              "      <td>1.433219e+06</td>\n",
              "      <td>1.433219e+06</td>\n",
              "      <td>1.433219e+06</td>\n",
              "      <td>1.433219e+06</td>\n",
              "      <td>1.433219e+06</td>\n",
              "      <td>1.433219e+06</td>\n",
              "      <td>1.433219e+06</td>\n",
              "      <td>1.433219e+06</td>\n",
              "      <td>1.433219e+06</td>\n",
              "    </tr>\n",
              "    <tr>\n",
              "      <th>mean</th>\n",
              "      <td>7.168299e+05</td>\n",
              "      <td>2.598160e-01</td>\n",
              "      <td>7.696428e+00</td>\n",
              "      <td>1.099229e+04</td>\n",
              "      <td>1.0</td>\n",
              "      <td>2.489468e-02</td>\n",
              "      <td>1.759639e+01</td>\n",
              "      <td>1.093182e+01</td>\n",
              "      <td>38.804604</td>\n",
              "      <td>2.098753e-02</td>\n",
              "      <td>441.728140</td>\n",
              "      <td>-1.436862e+00</td>\n",
              "      <td>1.584149e+00</td>\n",
              "      <td>1.099776e+00</td>\n",
              "      <td>1.349755e+00</td>\n",
              "      <td>2.830474e-01</td>\n",
              "      <td>1.330080e+00</td>\n",
              "      <td>1.261502e+00</td>\n",
              "      <td>1.251658e+00</td>\n",
              "      <td>1.584149e+00</td>\n",
              "      <td>1.350243e+00</td>\n",
              "      <td>1.350336e+00</td>\n",
              "      <td>1.124859</td>\n",
              "      <td>1.311597</td>\n",
              "      <td>4.012753</td>\n",
              "      <td>1.402423</td>\n",
              "      <td>0.080532</td>\n",
              "      <td>68.849582</td>\n",
              "      <td>7.098554e-01</td>\n",
              "      <td>3.370153e+01</td>\n",
              "      <td>1.217727e+00</td>\n",
              "      <td>1.336154e-01</td>\n",
              "      <td>2.326409e-01</td>\n",
              "      <td>1.621937e-01</td>\n",
              "      <td>6.161036e-01</td>\n",
              "      <td>4.017152e-02</td>\n",
              "      <td>2.280932e-02</td>\n",
              "      <td>1.329239e-01</td>\n",
              "      <td>1.033228e-02</td>\n",
              "      <td>2.314668e-01</td>\n",
              "      <td>5.307396e-02</td>\n",
              "      <td>3.382414e-01</td>\n",
              "      <td>1.581899e-01</td>\n",
              "      <td>3.275373e+00</td>\n",
              "      <td>1.903302e+01</td>\n",
              "      <td>1.621475e+00</td>\n",
              "      <td>5.713963e-01</td>\n",
              "      <td>5.085479e-01</td>\n",
              "      <td>7.548322e+00</td>\n",
              "      <td>1.430344e-02</td>\n",
              "      <td>3.980413e-03</td>\n",
              "      <td>6.273497e-03</td>\n",
              "      <td>2.879296e-03</td>\n",
              "      <td>9.444778e-03</td>\n",
              "      <td>4.950964e-04</td>\n",
              "      <td>9.220303e-04</td>\n",
              "      <td>9.732084e-04</td>\n",
              "      <td>1.007840e-04</td>\n",
              "      <td>7.764763e-03</td>\n",
              "      <td>1.270479e-03</td>\n",
              "      <td>9.948865e-03</td>\n",
              "      <td>4.645309e-03</td>\n",
              "      <td>5.617934e-02</td>\n",
              "      <td>4.155679e-01</td>\n",
              "      <td>4.317006e-02</td>\n",
              "      <td>2.076084e-02</td>\n",
              "      <td>3.610412e-03</td>\n",
              "      <td>2.363285e-01</td>\n",
              "    </tr>\n",
              "    <tr>\n",
              "      <th>std</th>\n",
              "      <td>4.138617e+05</td>\n",
              "      <td>1.988066e+00</td>\n",
              "      <td>1.020891e+02</td>\n",
              "      <td>5.959159e+04</td>\n",
              "      <td>0.0</td>\n",
              "      <td>1.558042e-01</td>\n",
              "      <td>6.853256e+01</td>\n",
              "      <td>5.327824e+01</td>\n",
              "      <td>68.695328</td>\n",
              "      <td>1.433425e-01</td>\n",
              "      <td>412.173722</td>\n",
              "      <td>4.720317e+00</td>\n",
              "      <td>3.040914e+00</td>\n",
              "      <td>5.841095e-01</td>\n",
              "      <td>2.042651e+00</td>\n",
              "      <td>1.991992e+00</td>\n",
              "      <td>1.955949e+00</td>\n",
              "      <td>1.895092e+00</td>\n",
              "      <td>1.891116e+00</td>\n",
              "      <td>3.040914e+00</td>\n",
              "      <td>1.963898e+00</td>\n",
              "      <td>1.963990e+00</td>\n",
              "      <td>0.694487</td>\n",
              "      <td>1.664263</td>\n",
              "      <td>4.650350</td>\n",
              "      <td>0.733577</td>\n",
              "      <td>0.147321</td>\n",
              "      <td>133.801658</td>\n",
              "      <td>3.225598e+00</td>\n",
              "      <td>8.180578e+01</td>\n",
              "      <td>4.982939e+00</td>\n",
              "      <td>2.976394e-01</td>\n",
              "      <td>4.513408e-01</td>\n",
              "      <td>4.250063e-01</td>\n",
              "      <td>2.064002e+00</td>\n",
              "      <td>2.298716e-01</td>\n",
              "      <td>2.053198e-01</td>\n",
              "      <td>2.253926e+01</td>\n",
              "      <td>1.235092e-01</td>\n",
              "      <td>3.991710e-01</td>\n",
              "      <td>2.140473e-01</td>\n",
              "      <td>7.138276e-01</td>\n",
              "      <td>6.034020e-01</td>\n",
              "      <td>9.620084e+00</td>\n",
              "      <td>6.029660e+01</td>\n",
              "      <td>8.112179e+00</td>\n",
              "      <td>3.916548e+00</td>\n",
              "      <td>9.844339e+00</td>\n",
              "      <td>3.157169e+01</td>\n",
              "      <td>3.251574e-02</td>\n",
              "      <td>4.805885e-03</td>\n",
              "      <td>7.242642e-03</td>\n",
              "      <td>5.455621e-03</td>\n",
              "      <td>1.897773e-02</td>\n",
              "      <td>2.037183e-03</td>\n",
              "      <td>3.569193e-03</td>\n",
              "      <td>9.911720e-03</td>\n",
              "      <td>8.309291e-04</td>\n",
              "      <td>6.856506e-03</td>\n",
              "      <td>4.083949e-03</td>\n",
              "      <td>1.145421e-02</td>\n",
              "      <td>6.082168e-03</td>\n",
              "      <td>6.285962e-02</td>\n",
              "      <td>2.921248e-01</td>\n",
              "      <td>1.407319e-01</td>\n",
              "      <td>9.083584e-02</td>\n",
              "      <td>4.353711e-02</td>\n",
              "      <td>2.149959e-01</td>\n",
              "    </tr>\n",
              "    <tr>\n",
              "      <th>min</th>\n",
              "      <td>1.000000e+00</td>\n",
              "      <td>0.000000e+00</td>\n",
              "      <td>-1.440000e+03</td>\n",
              "      <td>1.000000e+00</td>\n",
              "      <td>1.0</td>\n",
              "      <td>0.000000e+00</td>\n",
              "      <td>0.000000e+00</td>\n",
              "      <td>0.000000e+00</td>\n",
              "      <td>0.000000</td>\n",
              "      <td>0.000000e+00</td>\n",
              "      <td>9.000000</td>\n",
              "      <td>-1.200000e+01</td>\n",
              "      <td>1.000000e+00</td>\n",
              "      <td>0.000000e+00</td>\n",
              "      <td>0.000000e+00</td>\n",
              "      <td>0.000000e+00</td>\n",
              "      <td>0.000000e+00</td>\n",
              "      <td>0.000000e+00</td>\n",
              "      <td>0.000000e+00</td>\n",
              "      <td>1.000000e+00</td>\n",
              "      <td>0.000000e+00</td>\n",
              "      <td>0.000000e+00</td>\n",
              "      <td>1.000000</td>\n",
              "      <td>1.000000</td>\n",
              "      <td>1.000000</td>\n",
              "      <td>1.000000</td>\n",
              "      <td>0.000000</td>\n",
              "      <td>-145.000000</td>\n",
              "      <td>0.000000e+00</td>\n",
              "      <td>1.000000e+00</td>\n",
              "      <td>0.000000e+00</td>\n",
              "      <td>0.000000e+00</td>\n",
              "      <td>0.000000e+00</td>\n",
              "      <td>0.000000e+00</td>\n",
              "      <td>0.000000e+00</td>\n",
              "      <td>0.000000e+00</td>\n",
              "      <td>0.000000e+00</td>\n",
              "      <td>0.000000e+00</td>\n",
              "      <td>0.000000e+00</td>\n",
              "      <td>0.000000e+00</td>\n",
              "      <td>0.000000e+00</td>\n",
              "      <td>0.000000e+00</td>\n",
              "      <td>0.000000e+00</td>\n",
              "      <td>0.000000e+00</td>\n",
              "      <td>0.000000e+00</td>\n",
              "      <td>0.000000e+00</td>\n",
              "      <td>0.000000e+00</td>\n",
              "      <td>0.000000e+00</td>\n",
              "      <td>0.000000e+00</td>\n",
              "      <td>0.000000e+00</td>\n",
              "      <td>0.000000e+00</td>\n",
              "      <td>0.000000e+00</td>\n",
              "      <td>0.000000e+00</td>\n",
              "      <td>0.000000e+00</td>\n",
              "      <td>0.000000e+00</td>\n",
              "      <td>0.000000e+00</td>\n",
              "      <td>0.000000e+00</td>\n",
              "      <td>0.000000e+00</td>\n",
              "      <td>0.000000e+00</td>\n",
              "      <td>0.000000e+00</td>\n",
              "      <td>0.000000e+00</td>\n",
              "      <td>0.000000e+00</td>\n",
              "      <td>0.000000e+00</td>\n",
              "      <td>0.000000e+00</td>\n",
              "      <td>0.000000e+00</td>\n",
              "      <td>0.000000e+00</td>\n",
              "      <td>0.000000e+00</td>\n",
              "      <td>0.000000e+00</td>\n",
              "    </tr>\n",
              "    <tr>\n",
              "      <th>25%</th>\n",
              "      <td>3.584160e+05</td>\n",
              "      <td>0.000000e+00</td>\n",
              "      <td>0.000000e+00</td>\n",
              "      <td>3.000000e+01</td>\n",
              "      <td>1.0</td>\n",
              "      <td>0.000000e+00</td>\n",
              "      <td>1.000000e+00</td>\n",
              "      <td>1.000000e+00</td>\n",
              "      <td>0.000000</td>\n",
              "      <td>0.000000e+00</td>\n",
              "      <td>208.000000</td>\n",
              "      <td>-5.000000e+00</td>\n",
              "      <td>1.000000e+00</td>\n",
              "      <td>1.000000e+00</td>\n",
              "      <td>1.000000e+00</td>\n",
              "      <td>0.000000e+00</td>\n",
              "      <td>1.000000e+00</td>\n",
              "      <td>1.000000e+00</td>\n",
              "      <td>1.000000e+00</td>\n",
              "      <td>1.000000e+00</td>\n",
              "      <td>1.000000e+00</td>\n",
              "      <td>1.000000e+00</td>\n",
              "      <td>1.000000</td>\n",
              "      <td>1.000000</td>\n",
              "      <td>1.000000</td>\n",
              "      <td>1.000000</td>\n",
              "      <td>0.000000</td>\n",
              "      <td>25.000000</td>\n",
              "      <td>0.000000e+00</td>\n",
              "      <td>9.928571e+00</td>\n",
              "      <td>0.000000e+00</td>\n",
              "      <td>0.000000e+00</td>\n",
              "      <td>0.000000e+00</td>\n",
              "      <td>0.000000e+00</td>\n",
              "      <td>0.000000e+00</td>\n",
              "      <td>0.000000e+00</td>\n",
              "      <td>0.000000e+00</td>\n",
              "      <td>0.000000e+00</td>\n",
              "      <td>0.000000e+00</td>\n",
              "      <td>6.666667e-02</td>\n",
              "      <td>0.000000e+00</td>\n",
              "      <td>0.000000e+00</td>\n",
              "      <td>0.000000e+00</td>\n",
              "      <td>1.666667e-01</td>\n",
              "      <td>2.071429e+00</td>\n",
              "      <td>0.000000e+00</td>\n",
              "      <td>0.000000e+00</td>\n",
              "      <td>0.000000e+00</td>\n",
              "      <td>1.166667e+00</td>\n",
              "      <td>0.000000e+00</td>\n",
              "      <td>0.000000e+00</td>\n",
              "      <td>0.000000e+00</td>\n",
              "      <td>0.000000e+00</td>\n",
              "      <td>0.000000e+00</td>\n",
              "      <td>0.000000e+00</td>\n",
              "      <td>0.000000e+00</td>\n",
              "      <td>0.000000e+00</td>\n",
              "      <td>0.000000e+00</td>\n",
              "      <td>3.322259e-03</td>\n",
              "      <td>0.000000e+00</td>\n",
              "      <td>0.000000e+00</td>\n",
              "      <td>0.000000e+00</td>\n",
              "      <td>1.612903e-02</td>\n",
              "      <td>2.035398e-01</td>\n",
              "      <td>0.000000e+00</td>\n",
              "      <td>0.000000e+00</td>\n",
              "      <td>0.000000e+00</td>\n",
              "      <td>6.896552e-02</td>\n",
              "    </tr>\n",
              "    <tr>\n",
              "      <th>50%</th>\n",
              "      <td>7.168300e+05</td>\n",
              "      <td>0.000000e+00</td>\n",
              "      <td>0.000000e+00</td>\n",
              "      <td>2.100000e+02</td>\n",
              "      <td>1.0</td>\n",
              "      <td>0.000000e+00</td>\n",
              "      <td>5.000000e+00</td>\n",
              "      <td>2.000000e+00</td>\n",
              "      <td>25.000000</td>\n",
              "      <td>0.000000e+00</td>\n",
              "      <td>232.000000</td>\n",
              "      <td>-3.000000e+00</td>\n",
              "      <td>1.000000e+00</td>\n",
              "      <td>1.000000e+00</td>\n",
              "      <td>1.000000e+00</td>\n",
              "      <td>0.000000e+00</td>\n",
              "      <td>1.000000e+00</td>\n",
              "      <td>1.000000e+00</td>\n",
              "      <td>1.000000e+00</td>\n",
              "      <td>1.000000e+00</td>\n",
              "      <td>1.000000e+00</td>\n",
              "      <td>1.000000e+00</td>\n",
              "      <td>1.000000</td>\n",
              "      <td>1.000000</td>\n",
              "      <td>3.000000</td>\n",
              "      <td>1.000000</td>\n",
              "      <td>0.000000</td>\n",
              "      <td>40.000000</td>\n",
              "      <td>0.000000e+00</td>\n",
              "      <td>1.586667e+01</td>\n",
              "      <td>0.000000e+00</td>\n",
              "      <td>6.666667e-02</td>\n",
              "      <td>1.111111e-01</td>\n",
              "      <td>0.000000e+00</td>\n",
              "      <td>0.000000e+00</td>\n",
              "      <td>0.000000e+00</td>\n",
              "      <td>0.000000e+00</td>\n",
              "      <td>0.000000e+00</td>\n",
              "      <td>0.000000e+00</td>\n",
              "      <td>1.428571e-01</td>\n",
              "      <td>0.000000e+00</td>\n",
              "      <td>1.428571e-01</td>\n",
              "      <td>7.142857e-02</td>\n",
              "      <td>5.833333e-01</td>\n",
              "      <td>6.666667e+00</td>\n",
              "      <td>0.000000e+00</td>\n",
              "      <td>0.000000e+00</td>\n",
              "      <td>0.000000e+00</td>\n",
              "      <td>2.166667e+00</td>\n",
              "      <td>0.000000e+00</td>\n",
              "      <td>2.427184e-03</td>\n",
              "      <td>5.011390e-03</td>\n",
              "      <td>0.000000e+00</td>\n",
              "      <td>0.000000e+00</td>\n",
              "      <td>0.000000e+00</td>\n",
              "      <td>0.000000e+00</td>\n",
              "      <td>0.000000e+00</td>\n",
              "      <td>0.000000e+00</td>\n",
              "      <td>6.896552e-03</td>\n",
              "      <td>0.000000e+00</td>\n",
              "      <td>7.450051e-03</td>\n",
              "      <td>2.824859e-03</td>\n",
              "      <td>3.636364e-02</td>\n",
              "      <td>4.121622e-01</td>\n",
              "      <td>0.000000e+00</td>\n",
              "      <td>0.000000e+00</td>\n",
              "      <td>0.000000e+00</td>\n",
              "      <td>1.179245e-01</td>\n",
              "    </tr>\n",
              "    <tr>\n",
              "      <th>75%</th>\n",
              "      <td>1.075244e+06</td>\n",
              "      <td>0.000000e+00</td>\n",
              "      <td>0.000000e+00</td>\n",
              "      <td>2.750000e+03</td>\n",
              "      <td>1.0</td>\n",
              "      <td>0.000000e+00</td>\n",
              "      <td>1.000000e+01</td>\n",
              "      <td>6.000000e+00</td>\n",
              "      <td>48.000000</td>\n",
              "      <td>0.000000e+00</td>\n",
              "      <td>816.000000</td>\n",
              "      <td>2.000000e+00</td>\n",
              "      <td>1.000000e+00</td>\n",
              "      <td>1.000000e+00</td>\n",
              "      <td>1.000000e+00</td>\n",
              "      <td>0.000000e+00</td>\n",
              "      <td>1.000000e+00</td>\n",
              "      <td>1.000000e+00</td>\n",
              "      <td>1.000000e+00</td>\n",
              "      <td>1.000000e+00</td>\n",
              "      <td>1.000000e+00</td>\n",
              "      <td>1.000000e+00</td>\n",
              "      <td>1.000000</td>\n",
              "      <td>1.000000</td>\n",
              "      <td>5.000000</td>\n",
              "      <td>2.000000</td>\n",
              "      <td>0.142857</td>\n",
              "      <td>72.000000</td>\n",
              "      <td>0.000000e+00</td>\n",
              "      <td>3.160000e+01</td>\n",
              "      <td>2.857143e-01</td>\n",
              "      <td>1.428571e-01</td>\n",
              "      <td>2.666667e-01</td>\n",
              "      <td>1.428571e-01</td>\n",
              "      <td>3.333333e-01</td>\n",
              "      <td>0.000000e+00</td>\n",
              "      <td>0.000000e+00</td>\n",
              "      <td>0.000000e+00</td>\n",
              "      <td>0.000000e+00</td>\n",
              "      <td>2.222222e-01</td>\n",
              "      <td>0.000000e+00</td>\n",
              "      <td>3.750000e-01</td>\n",
              "      <td>1.428571e-01</td>\n",
              "      <td>2.000000e+00</td>\n",
              "      <td>1.714286e+01</td>\n",
              "      <td>0.000000e+00</td>\n",
              "      <td>0.000000e+00</td>\n",
              "      <td>0.000000e+00</td>\n",
              "      <td>5.400000e+00</td>\n",
              "      <td>1.128207e-02</td>\n",
              "      <td>6.711409e-03</td>\n",
              "      <td>9.900990e-03</td>\n",
              "      <td>4.329004e-03</td>\n",
              "      <td>1.161290e-02</td>\n",
              "      <td>0.000000e+00</td>\n",
              "      <td>0.000000e+00</td>\n",
              "      <td>0.000000e+00</td>\n",
              "      <td>0.000000e+00</td>\n",
              "      <td>1.086957e-02</td>\n",
              "      <td>0.000000e+00</td>\n",
              "      <td>1.408451e-02</td>\n",
              "      <td>7.633588e-03</td>\n",
              "      <td>7.216495e-02</td>\n",
              "      <td>6.574074e-01</td>\n",
              "      <td>0.000000e+00</td>\n",
              "      <td>0.000000e+00</td>\n",
              "      <td>0.000000e+00</td>\n",
              "      <td>4.642857e-01</td>\n",
              "    </tr>\n",
              "    <tr>\n",
              "      <th>max</th>\n",
              "      <td>1.433659e+06</td>\n",
              "      <td>1.800000e+01</td>\n",
              "      <td>2.080800e+04</td>\n",
              "      <td>2.300000e+06</td>\n",
              "      <td>1.0</td>\n",
              "      <td>1.000000e+00</td>\n",
              "      <td>5.000000e+02</td>\n",
              "      <td>5.000000e+02</td>\n",
              "      <td>3468.000000</td>\n",
              "      <td>1.000000e+00</td>\n",
              "      <td>1678.000000</td>\n",
              "      <td>1.400000e+01</td>\n",
              "      <td>2.400000e+02</td>\n",
              "      <td>5.700000e+01</td>\n",
              "      <td>2.250000e+02</td>\n",
              "      <td>1.960000e+02</td>\n",
              "      <td>2.180000e+02</td>\n",
              "      <td>2.170000e+02</td>\n",
              "      <td>2.170000e+02</td>\n",
              "      <td>2.400000e+02</td>\n",
              "      <td>2.200000e+02</td>\n",
              "      <td>2.200000e+02</td>\n",
              "      <td>62.000000</td>\n",
              "      <td>189.000000</td>\n",
              "      <td>193.000000</td>\n",
              "      <td>12.000000</td>\n",
              "      <td>0.994624</td>\n",
              "      <td>6618.000000</td>\n",
              "      <td>1.748000e+03</td>\n",
              "      <td>3.555370e+04</td>\n",
              "      <td>4.131538e+02</td>\n",
              "      <td>3.500000e+01</td>\n",
              "      <td>3.900000e+01</td>\n",
              "      <td>1.500000e+01</td>\n",
              "      <td>1.970000e+02</td>\n",
              "      <td>5.620000e+01</td>\n",
              "      <td>2.022000e+02</td>\n",
              "      <td>1.243900e+04</td>\n",
              "      <td>1.930435e+01</td>\n",
              "      <td>3.700000e+01</td>\n",
              "      <td>8.740000e+01</td>\n",
              "      <td>1.151600e+02</td>\n",
              "      <td>2.380000e+02</td>\n",
              "      <td>6.360000e+02</td>\n",
              "      <td>3.096035e+04</td>\n",
              "      <td>1.016692e+03</td>\n",
              "      <td>7.908333e+02</td>\n",
              "      <td>3.622630e+03</td>\n",
              "      <td>1.228146e+04</td>\n",
              "      <td>5.625000e-01</td>\n",
              "      <td>1.339713e-01</td>\n",
              "      <td>1.000000e+00</td>\n",
              "      <td>1.052632e-01</td>\n",
              "      <td>6.403712e-01</td>\n",
              "      <td>1.336016e-01</td>\n",
              "      <td>9.634077e-01</td>\n",
              "      <td>9.991693e-01</td>\n",
              "      <td>1.032733e-01</td>\n",
              "      <td>1.000000e+00</td>\n",
              "      <td>3.216080e-01</td>\n",
              "      <td>4.780702e-01</td>\n",
              "      <td>8.019551e-01</td>\n",
              "      <td>1.000000e+00</td>\n",
              "      <td>1.000000e+00</td>\n",
              "      <td>1.000000e+00</td>\n",
              "      <td>1.000000e+00</td>\n",
              "      <td>9.885057e-01</td>\n",
              "      <td>1.000000e+00</td>\n",
              "    </tr>\n",
              "  </tbody>\n",
              "</table>\n",
              "</div>"
            ],
            "text/plain": [
              "         account_id  churn_reason  ...  P_event_by_desktop  P_event_by_empty\n",
              "count  1.433661e+06  1.433661e+06  ...        1.433219e+06      1.433219e+06\n",
              "mean   7.168299e+05  2.598160e-01  ...        3.610412e-03      2.363285e-01\n",
              "std    4.138617e+05  1.988066e+00  ...        4.353711e-02      2.149959e-01\n",
              "min    1.000000e+00  0.000000e+00  ...        0.000000e+00      0.000000e+00\n",
              "25%    3.584160e+05  0.000000e+00  ...        0.000000e+00      6.896552e-02\n",
              "50%    7.168300e+05  0.000000e+00  ...        0.000000e+00      1.179245e-01\n",
              "75%    1.075244e+06  0.000000e+00  ...        0.000000e+00      4.642857e-01\n",
              "max    1.433659e+06  1.800000e+01  ...        9.885057e-01      1.000000e+00\n",
              "\n",
              "[8 rows x 68 columns]"
            ]
          },
          "metadata": {
            "tags": []
          },
          "execution_count": 199
        }
      ]
    },
    {
      "cell_type": "markdown",
      "metadata": {
        "id": "qMEWXPofVXQp",
        "colab_type": "text"
      },
      "source": [
        "###Re-splitting\n",
        "We now need to split our data back to the original train set and test set.\n",
        "\n",
        "We also make sure we keep only the columns we want in the data frame (the features)"
      ]
    },
    {
      "cell_type": "code",
      "metadata": {
        "id": "u2u-ghg6VsuF",
        "colab_type": "code",
        "colab": {}
      },
      "source": [
        "# Getting only the relevant features from the dataset\n",
        "dataset = all_features[categorical_features + normalized_features + binary_features + untouched_features + target]\n",
        "\n",
        "# Filling empty values with default values \n",
        "dataset.loc[:,categorical_features] = dataset[categorical_features].fillna('')\n",
        "dataset.loc[:,normalized_features +\n",
        "              binary_features +\n",
        "              untouched_features] = dataset[normalized_features +\n",
        "                                            binary_features +\n",
        "                                            untouched_features].fillna(0)\n",
        "\n",
        "# Splitting them back up to the original train/test split\n",
        "dataset_train = dataset[dataset.reset_index().account_id.isin(train_accounts.account_id)]\n",
        "dataset_test = dataset[dataset.reset_index().account_id.isin(test_accounts.account_id)]"
      ],
      "execution_count": 0,
      "outputs": []
    },
    {
      "cell_type": "code",
      "metadata": {
        "id": "L3F7pS0pT7Wb",
        "colab_type": "code",
        "colab": {}
      },
      "source": [
        "# Splitting them back up to the original train/test split\n",
        "dataset_train = dataset.loc[~(dataset['lead_score'].isna())].reset_index().drop(['index'],axis=1)\n",
        "dataset_test = dataset.loc[(dataset['lead_score'].isna())].reset_index().drop(['index'],axis=1)"
      ],
      "execution_count": 0,
      "outputs": []
    },
    {
      "cell_type": "code",
      "metadata": {
        "id": "IM1ooT2BQtTE",
        "colab_type": "code",
        "outputId": "46109e12-76b8-4cb8-c59b-8ab0b5725c7c",
        "colab": {
          "base_uri": "https://localhost:8080/",
          "height": 34
        }
      },
      "source": [
        "dataset_test[dataset_test['lead_score'].isna()].shape,dataset[dataset['lead_score'].isna()].shape"
      ],
      "execution_count": 202,
      "outputs": [
        {
          "output_type": "execute_result",
          "data": {
            "text/plain": [
              "((71683, 79), (71683, 79))"
            ]
          },
          "metadata": {
            "tags": []
          },
          "execution_count": 202
        }
      ]
    },
    {
      "cell_type": "markdown",
      "metadata": {
        "id": "DeYB9q5Hmdtl",
        "colab_type": "text"
      },
      "source": [
        "###Setting everything up\n",
        "Our dataset is large (1,500,000+ accounts, each has a few users, each has events for every day)\n",
        "\n",
        "We need to work on a smaller batch of the training data so we can iterate more quickly.\n",
        "\n",
        "Once we find a good architecture we can increase the sample size to increase the accuracy."
      ]
    },
    {
      "cell_type": "code",
      "metadata": {
        "id": "Kt2uv6bbVVom",
        "colab_type": "code",
        "colab": {}
      },
      "source": [
        "sampled_dataset_train = dataset_train.iloc[sample_without_replacement(dataset_train.shape[0], samples_num)]"
      ],
      "execution_count": 0,
      "outputs": []
    },
    {
      "cell_type": "code",
      "metadata": {
        "id": "2oOxDhLgM8a4",
        "colab_type": "code",
        "colab": {}
      },
      "source": [
        "# You now need to split the data into YOUR OWN training and test sets\n",
        "X_train, X_test, y_train, y_test = train_test_split(X, y, test_size=0.05, random_state=42)\n",
        "\n",
        "# For standardization purposes we store y_test in a y_true variable\n",
        "y_true = y_test"
      ],
      "execution_count": 0,
      "outputs": []
    },
    {
      "cell_type": "code",
      "metadata": {
        "id": "h49yMjV2HMow",
        "colab_type": "code",
        "outputId": "c994fe44-aeb5-4695-d3b2-1ec79da64de8",
        "colab": {
          "base_uri": "https://localhost:8080/",
          "height": 481
        }
      },
      "source": [
        "## (when using google colab)\n",
        "! pip install catboost\n",
        "! pip install plotly_express"
      ],
      "execution_count": 173,
      "outputs": [
        {
          "output_type": "stream",
          "text": [
            "Requirement already satisfied: catboost in /usr/local/lib/python3.6/dist-packages (0.16.5)\n",
            "Requirement already satisfied: numpy>=1.16.0 in /usr/local/lib/python3.6/dist-packages (from catboost) (1.16.4)\n",
            "Requirement already satisfied: pandas>=0.19.1 in /usr/local/lib/python3.6/dist-packages (from catboost) (0.24.2)\n",
            "Requirement already satisfied: plotly in /usr/local/lib/python3.6/dist-packages (from catboost) (4.1.1)\n",
            "Requirement already satisfied: graphviz in /usr/local/lib/python3.6/dist-packages (from catboost) (0.10.1)\n",
            "Requirement already satisfied: matplotlib in /usr/local/lib/python3.6/dist-packages (from catboost) (3.0.3)\n",
            "Requirement already satisfied: six in /usr/local/lib/python3.6/dist-packages (from catboost) (1.12.0)\n",
            "Requirement already satisfied: pytz>=2011k in /usr/local/lib/python3.6/dist-packages (from pandas>=0.19.1->catboost) (2018.9)\n",
            "Requirement already satisfied: python-dateutil>=2.5.0 in /usr/local/lib/python3.6/dist-packages (from pandas>=0.19.1->catboost) (2.5.3)\n",
            "Requirement already satisfied: retrying>=1.3.3 in /usr/local/lib/python3.6/dist-packages (from plotly->catboost) (1.3.3)\n",
            "Requirement already satisfied: cycler>=0.10 in /usr/local/lib/python3.6/dist-packages (from matplotlib->catboost) (0.10.0)\n",
            "Requirement already satisfied: kiwisolver>=1.0.1 in /usr/local/lib/python3.6/dist-packages (from matplotlib->catboost) (1.1.0)\n",
            "Requirement already satisfied: pyparsing!=2.0.4,!=2.1.2,!=2.1.6,>=2.0.1 in /usr/local/lib/python3.6/dist-packages (from matplotlib->catboost) (2.4.2)\n",
            "Requirement already satisfied: setuptools in /usr/local/lib/python3.6/dist-packages (from kiwisolver>=1.0.1->matplotlib->catboost) (41.2.0)\n",
            "Requirement already satisfied: plotly_express in /usr/local/lib/python3.6/dist-packages (0.4.1)\n",
            "Requirement already satisfied: pandas>=0.20.0 in /usr/local/lib/python3.6/dist-packages (from plotly_express) (0.24.2)\n",
            "Requirement already satisfied: patsy>=0.5 in /usr/local/lib/python3.6/dist-packages (from plotly_express) (0.5.1)\n",
            "Requirement already satisfied: plotly>=4.1.0 in /usr/local/lib/python3.6/dist-packages (from plotly_express) (4.1.1)\n",
            "Requirement already satisfied: statsmodels>=0.9.0 in /usr/local/lib/python3.6/dist-packages (from plotly_express) (0.10.1)\n",
            "Requirement already satisfied: scipy>=0.18 in /usr/local/lib/python3.6/dist-packages (from plotly_express) (1.3.1)\n",
            "Requirement already satisfied: numpy>=1.11 in /usr/local/lib/python3.6/dist-packages (from plotly_express) (1.16.4)\n",
            "Requirement already satisfied: python-dateutil>=2.5.0 in /usr/local/lib/python3.6/dist-packages (from pandas>=0.20.0->plotly_express) (2.5.3)\n",
            "Requirement already satisfied: pytz>=2011k in /usr/local/lib/python3.6/dist-packages (from pandas>=0.20.0->plotly_express) (2018.9)\n",
            "Requirement already satisfied: six in /usr/local/lib/python3.6/dist-packages (from patsy>=0.5->plotly_express) (1.12.0)\n",
            "Requirement already satisfied: retrying>=1.3.3 in /usr/local/lib/python3.6/dist-packages (from plotly>=4.1.0->plotly_express) (1.3.3)\n"
          ],
          "name": "stdout"
        }
      ]
    },
    {
      "cell_type": "code",
      "metadata": {
        "id": "khj17scYHQnH",
        "colab_type": "code",
        "colab": {}
      },
      "source": [
        "## General\n",
        "import os \n",
        "import joblib\n",
        "import requests\n",
        "from google_drive_downloader import GoogleDriveDownloader as gdd\n",
        "\n",
        "## Data manipulation\n",
        "import pandas as pd\n",
        "import numpy as np\n",
        "\n",
        "## Modeling\n",
        "### Modeling pipeline\n",
        "from sklearn.model_selection import train_test_split\n",
        "from sklearn.model_selection import cross_val_score\n",
        "from sklearn.metrics import classification_report, confusion_matrix, accuracy_score, precision_score, recall_score, f1_score\n",
        "from sklearn.model_selection import GridSearchCV\n",
        " \n",
        "### Models\n",
        "from sklearn.tree import DecisionTreeClassifier\n",
        "from sklearn.ensemble import RandomForestClassifier\n",
        "from xgboost import XGBClassifier    \n",
        "from catboost import CatBoostClassifier, Pool\n",
        "\n",
        "## Visuatlization\n",
        "import plotly \n",
        "import plotly.express as px\n",
        "import plotly.graph_objects as go"
      ],
      "execution_count": 0,
      "outputs": []
    },
    {
      "cell_type": "code",
      "metadata": {
        "id": "lU_fiOvFHE0p",
        "colab_type": "code",
        "outputId": "f77df6d4-876f-459a-e18c-21c1f0e97be8",
        "colab": {
          "base_uri": "https://localhost:8080/",
          "height": 372
        }
      },
      "source": [
        "parameters = {'n_estimators': [50], #[50,100,200]\n",
        "             'max_depth': [5], #[5,10,15],\n",
        "             'criterion': ['gini', 'entropy'],\n",
        "             'max_features': [15]} #[int(np.log2(X_train.shape[1])), int(np.sqrt(X_train.shape[1]))]\n",
        "\n",
        "rf_cv = GridSearchCV(RandomForestClassifier(class_weight='balanced'), \n",
        "                   parameters, \n",
        "                   n_jobs = -1,\n",
        "                   cv = 5,\n",
        "                   refit = True,\n",
        "                   scoring = 'f1')\n",
        "\n",
        "rf_cv.fit(X_train, y_train)"
      ],
      "execution_count": 206,
      "outputs": [
        {
          "output_type": "execute_result",
          "data": {
            "text/plain": [
              "GridSearchCV(cv=5, error_score='raise-deprecating',\n",
              "             estimator=RandomForestClassifier(bootstrap=True,\n",
              "                                              class_weight='balanced',\n",
              "                                              criterion='gini', max_depth=None,\n",
              "                                              max_features='auto',\n",
              "                                              max_leaf_nodes=None,\n",
              "                                              min_impurity_decrease=0.0,\n",
              "                                              min_impurity_split=None,\n",
              "                                              min_samples_leaf=1,\n",
              "                                              min_samples_split=2,\n",
              "                                              min_weight_fraction_leaf=0.0,\n",
              "                                              n_estimators='warn', n_jobs=None,\n",
              "                                              oob_score=False,\n",
              "                                              random_state=None, verbose=0,\n",
              "                                              warm_start=False),\n",
              "             iid='warn', n_jobs=-1,\n",
              "             param_grid={'criterion': ['gini', 'entropy'], 'max_depth': [5],\n",
              "                         'max_features': [15], 'n_estimators': [50]},\n",
              "             pre_dispatch='2*n_jobs', refit=True, return_train_score=False,\n",
              "             scoring='f1', verbose=0)"
            ]
          },
          "metadata": {
            "tags": []
          },
          "execution_count": 206
        }
      ]
    },
    {
      "cell_type": "code",
      "metadata": {
        "id": "MQDz6eEvcGLJ",
        "colab_type": "code",
        "outputId": "2d86a567-a502-4fbc-cfef-30369d07ab87",
        "colab": {
          "base_uri": "https://localhost:8080/",
          "height": 141
        }
      },
      "source": [
        "rf_best_model = rf_cv.best_estimator_\n",
        "rf_best_model"
      ],
      "execution_count": 207,
      "outputs": [
        {
          "output_type": "execute_result",
          "data": {
            "text/plain": [
              "RandomForestClassifier(bootstrap=True, class_weight='balanced',\n",
              "                       criterion='entropy', max_depth=5, max_features=15,\n",
              "                       max_leaf_nodes=None, min_impurity_decrease=0.0,\n",
              "                       min_impurity_split=None, min_samples_leaf=1,\n",
              "                       min_samples_split=2, min_weight_fraction_leaf=0.0,\n",
              "                       n_estimators=50, n_jobs=None, oob_score=False,\n",
              "                       random_state=None, verbose=0, warm_start=False)"
            ]
          },
          "metadata": {
            "tags": []
          },
          "execution_count": 207
        }
      ]
    },
    {
      "cell_type": "code",
      "metadata": {
        "id": "4QW73bMecL9F",
        "colab_type": "code",
        "colab": {}
      },
      "source": [
        "y_train_pred = rf_best_model.predict(X_train) "
      ],
      "execution_count": 0,
      "outputs": []
    },
    {
      "cell_type": "code",
      "metadata": {
        "id": "nReMIThzcPnk",
        "colab_type": "code",
        "outputId": "816713ba-9bf2-43fb-aab6-e3288a761321",
        "colab": {
          "base_uri": "https://localhost:8080/",
          "height": 87
        }
      },
      "source": [
        "accuracy_score(y_train_pred, y_train),f1_score(y_train, y_train_pred),precision_score(y_train, y_train_pred),recall_score(y_train, y_train_pred)"
      ],
      "execution_count": 209,
      "outputs": [
        {
          "output_type": "execute_result",
          "data": {
            "text/plain": [
              "(0.8573374613003096,\n",
              " 0.25021966220833736,\n",
              " 0.14390522355935692,\n",
              " 0.9578921141148623)"
            ]
          },
          "metadata": {
            "tags": []
          },
          "execution_count": 209
        }
      ]
    },
    {
      "cell_type": "code",
      "metadata": {
        "id": "kFMf9ez3cgo8",
        "colab_type": "code",
        "outputId": "072b9e94-12e1-4f0e-cade-44aea16138d8",
        "colab": {
          "base_uri": "https://localhost:8080/",
          "height": 52
        }
      },
      "source": [
        "confusion_matrix(y_train_pred, y_train)\n",
        "\n"
      ],
      "execution_count": 187,
      "outputs": [
        {
          "output_type": "execute_result",
          "data": {
            "text/plain": [
              "array([[1083755,    1362],\n",
              "       [ 176137,   30746]])"
            ]
          },
          "metadata": {
            "tags": []
          },
          "execution_count": 187
        }
      ]
    },
    {
      "cell_type": "markdown",
      "metadata": {
        "id": "GeEMwslgdJGF",
        "colab_type": "text"
      },
      "source": [
        "## XGBOOST"
      ]
    },
    {
      "cell_type": "code",
      "metadata": {
        "id": "a-8dISHGdaan",
        "colab_type": "code",
        "colab": {}
      },
      "source": [
        "\n",
        "parameters = {\n",
        "    \"gamma\": [0.2, 0.5],\n",
        "    \"learning_rate\": [0.1]\n",
        "}\n",
        "\n",
        "xgb_cv = GridSearchCV(XGBClassifier(class_weight='balanced'), \n",
        "                       parameters, \n",
        "                       n_jobs = -1,\n",
        "                       cv = 5,\n",
        "                       refit = True,\n",
        "                       scoring = 'f1')\n",
        "\n",
        "xgb_cv.fit(X_train, y_train)"
      ],
      "execution_count": 0,
      "outputs": []
    },
    {
      "cell_type": "code",
      "metadata": {
        "id": "YAf6E5EPdeSd",
        "colab_type": "code",
        "colab": {}
      },
      "source": [
        "xgb_best_model = xgb_cv.best_estimator_\n",
        "xgb_best_model"
      ],
      "execution_count": 0,
      "outputs": []
    },
    {
      "cell_type": "code",
      "metadata": {
        "id": "3NxU4CAwdiES",
        "colab_type": "code",
        "colab": {}
      },
      "source": [
        "y_train_pred = xgb_best_model.predict(X_train) "
      ],
      "execution_count": 0,
      "outputs": []
    },
    {
      "cell_type": "code",
      "metadata": {
        "id": "9C0eQoiqNgrU",
        "colab_type": "code",
        "colab": {}
      },
      "source": [
        "accuracy_score(y_train_pred, y_train),f1_score(y_train, y_train_pred),precision_score(y_train, y_train_pred),recall_score(y_train, y_train_pred)"
      ],
      "execution_count": 0,
      "outputs": []
    },
    {
      "cell_type": "markdown",
      "metadata": {
        "id": "EbxKBGRSeFV_",
        "colab_type": "text"
      },
      "source": [
        "## Catboost"
      ]
    },
    {
      "cell_type": "code",
      "metadata": {
        "id": "eYC1FLLWeVsE",
        "colab_type": "code",
        "colab": {}
      },
      "source": [
        "parameters = {\n",
        "    \"reg_lambda\": [0, 0.2, 0.5],\n",
        "    \"learning_rate\": [0.1],\n",
        "    \"loss_function\": ['Logloss'] #F1, recall, ... \n",
        "}\n",
        "\n",
        "cat_cv = GridSearchCV(CatBoostClassifier(class_weights = [0.98, 0.02]), \n",
        "                       parameters, \n",
        "                       n_jobs = -1,\n",
        "                       cv = 5,\n",
        "                       refit = True,\n",
        "                       scoring = 'f1',\n",
        "                       verbose = 0)\n",
        "\n",
        "cat_cv.fit(X_train, y_train)"
      ],
      "execution_count": 0,
      "outputs": []
    },
    {
      "cell_type": "markdown",
      "metadata": {
        "id": "eJs7Ngnao4nC",
        "colab_type": "text"
      },
      "source": [
        "###Running the model\n",
        "It's the money time, we can finally run our model!\n",
        "\n",
        "First we need to created it, and train(fit) it."
      ]
    },
    {
      "cell_type": "code",
      "metadata": {
        "id": "1-H91z01wwlI",
        "colab_type": "code",
        "outputId": "46d62a67-c4a4-4378-ac2d-c1d763b9a0e5",
        "colab": {
          "base_uri": "https://localhost:8080/",
          "height": 52
        }
      },
      "source": [
        "# Now we need to get the predictions of our test set\n",
        "%time y_pred = rf_best_model.predict(X_test)"
      ],
      "execution_count": 192,
      "outputs": [
        {
          "output_type": "stream",
          "text": [
            "CPU times: user 274 ms, sys: 2.01 ms, total: 276 ms\n",
            "Wall time: 276 ms\n"
          ],
          "name": "stdout"
        }
      ]
    },
    {
      "cell_type": "markdown",
      "metadata": {
        "id": "-HNTLiSgpn1W",
        "colab_type": "text"
      },
      "source": [
        "###Model evaluation\n",
        "Now that we have our model and it can predict the lead score based on features, we need a way to test if it's any good"
      ]
    },
    {
      "cell_type": "markdown",
      "metadata": {
        "id": "6wglP_6UqOq_",
        "colab_type": "text"
      },
      "source": [
        "####Classification report\n",
        "We use classification_report to get different metrics comparing our prediction to the ground truth."
      ]
    },
    {
      "cell_type": "code",
      "metadata": {
        "id": "cpmyj4P-flpW",
        "colab_type": "code",
        "outputId": "cb090fd0-d854-4b79-ac1c-7ba6562e3bf4",
        "colab": {
          "base_uri": "https://localhost:8080/",
          "height": 176
        }
      },
      "source": [
        "print(classification_report(y_true, y_pred, target_names=['Not Lead', 'Lead']))"
      ],
      "execution_count": 189,
      "outputs": [
        {
          "output_type": "stream",
          "text": [
            "              precision    recall  f1-score   support\n",
            "\n",
            "    Not Lead       1.00      0.86      0.92     66270\n",
            "        Lead       0.15      0.96      0.26      1730\n",
            "\n",
            "    accuracy                           0.86     68000\n",
            "   macro avg       0.58      0.91      0.59     68000\n",
            "weighted avg       0.98      0.86      0.91     68000\n",
            "\n"
          ],
          "name": "stdout"
        }
      ]
    },
    {
      "cell_type": "markdown",
      "metadata": {
        "id": "aGt_gAIt5iqF",
        "colab_type": "text"
      },
      "source": [
        "We can also get the MCC score of the model"
      ]
    },
    {
      "cell_type": "code",
      "metadata": {
        "id": "M_Ax24kc5dgq",
        "colab_type": "code",
        "outputId": "207d0ad7-5084-4366-c9b7-ffa523605829",
        "colab": {
          "base_uri": "https://localhost:8080/",
          "height": 70
        }
      },
      "source": [
        "print('Acc:  {}'.format(metrics.accuracy_score(y_true, y_pred)))\n",
        "print('MCC: {}'.format(metrics.matthews_corrcoef(y_true, y_pred)))\n",
        "print('F1:  {}'.format(metrics.f1_score(y_true, y_pred)))"
      ],
      "execution_count": 190,
      "outputs": [
        {
          "output_type": "stream",
          "text": [
            "Acc:  0.862985294117647\n",
            "MCC: 0.3505527241635424\n",
            "F1:  0.26201980198019803\n"
          ],
          "name": "stdout"
        }
      ]
    },
    {
      "cell_type": "markdown",
      "metadata": {
        "id": "B0CC280TpnGV",
        "colab_type": "text"
      },
      "source": [
        "####Plotting the confusion matrix\n",
        "Confusion matrices are useful for comparing our predictions"
      ]
    },
    {
      "cell_type": "code",
      "metadata": {
        "id": "hRd1YjZFy-UJ",
        "colab_type": "code",
        "outputId": "e836b963-5cc2-4ee1-8374-06f95203ec30",
        "colab": {
          "base_uri": "https://localhost:8080/",
          "height": 294
        }
      },
      "source": [
        "fig, axs = plt.subplots(ncols=2, figsize=(14,4))\n",
        "\n",
        "cm = confusion_matrix(y_true, y_pred)\n",
        "ticks = ['Not Lead', 'Lead']\n",
        "cmap = sns.color_palette(\"Blues\")\n",
        "\n",
        "# We normalize our data to see more accurate comparsion\n",
        "sns.heatmap(cm.astype('float') / cm.sum(axis=1)[:, np.newaxis], annot=True, ax=axs[0], cmap=cmap)\n",
        "axs[0].set(title=\"Normalized confusion matrix\", xlabel=\"Prediction\", ylabel=\"Truth\", xticklabels=ticks, yticklabels=ticks)\n",
        "\n",
        "# We also plot the original numbers to get the whole picture\n",
        "sns.heatmap(cm, annot=True, ax=axs[1], fmt='g', cmap=cmap)\n",
        "axs[1].set(title=\"Confusion matrix\", xlabel=\"Prediction\", ylabel=\"Truth\", xticklabels=ticks, yticklabels=ticks);"
      ],
      "execution_count": 193,
      "outputs": [
        {
          "output_type": "display_data",
          "data": {
            "image/png": "[encoded data removed]",
            "text/plain": [
              "<Figure size 1008x288 with 4 Axes>"
            ]
          },
          "metadata": {
            "tags": []
          }
        }
      ]
    },
    {
      "cell_type": "markdown",
      "metadata": {
        "id": "0FUIBac_ZRLp",
        "colab_type": "text"
      },
      "source": [
        "###Submitting results\n",
        "After you ran several iterations, and you think your model is good enough, you can send it to us and we'll add your score on the leaderboard!\n",
        "\n",
        "You have to get the results into the following format:\n",
        "```python\n",
        "{\"9023749\": 1, \"9837598\": 0, ...}\n",
        "```\n",
        "\n",
        "This is a dictionary where the keys are `account_id`s and the values are the predicted lead_score.\n",
        "\n",
        "_Make sure you send us **all** the test accounts!_\n",
        "\n",
        "_There should be exactly `71,683` of them!_"
      ]
    },
    {
      "cell_type": "markdown",
      "metadata": {
        "id": "TmB5Vx91ao4t",
        "colab_type": "text"
      },
      "source": [
        "####Prediction\n",
        "First of all, just like before, we have to predict the lead_score.\n",
        "\n",
        "This time you need to use the test set _we_ provided."
      ]
    },
    {
      "cell_type": "code",
      "metadata": {
        "id": "8xv469ucaoJ-",
        "colab_type": "code",
        "outputId": "73ae892e-8443-4427-d3f9-a022ff6a0ad2",
        "colab": {
          "base_uri": "https://localhost:8080/",
          "height": 407
        }
      },
      "source": [
        "dataset_test = dataset[dataset['lead_score'].isna()]\n",
        "submission_account_ids = dataset_test.account_id\n",
        "\n",
        "X_submission = preprocess.transform(dataset_test)\n",
        "\n",
        "y_pred_submission = rf_best_model.predict(X_submission)"
      ],
      "execution_count": 212,
      "outputs": [
        {
          "output_type": "error",
          "ename": "NotFittedError",
          "evalue": "ignored",
          "traceback": [
            "\u001b[0;31m---------------------------------------------------------------------------\u001b[0m",
            "\u001b[0;31mNotFittedError\u001b[0m                            Traceback (most recent call last)",
            "\u001b[0;32m<ipython-input-212-8c5c2cfab048>\u001b[0m in \u001b[0;36m<module>\u001b[0;34m()\u001b[0m\n\u001b[1;32m      2\u001b[0m \u001b[0msubmission_account_ids\u001b[0m \u001b[0;34m=\u001b[0m \u001b[0mdataset_test\u001b[0m\u001b[0;34m.\u001b[0m\u001b[0maccount_id\u001b[0m\u001b[0;34m\u001b[0m\u001b[0;34m\u001b[0m\u001b[0m\n\u001b[1;32m      3\u001b[0m \u001b[0;34m\u001b[0m\u001b[0m\n\u001b[0;32m----> 4\u001b[0;31m \u001b[0mX_submission\u001b[0m \u001b[0;34m=\u001b[0m \u001b[0mpreprocess\u001b[0m\u001b[0;34m.\u001b[0m\u001b[0mtransform\u001b[0m\u001b[0;34m(\u001b[0m\u001b[0mdataset_test\u001b[0m\u001b[0;34m)\u001b[0m\u001b[0;34m\u001b[0m\u001b[0;34m\u001b[0m\u001b[0m\n\u001b[0m\u001b[1;32m      5\u001b[0m \u001b[0;34m\u001b[0m\u001b[0m\n\u001b[1;32m      6\u001b[0m \u001b[0my_pred_submission\u001b[0m \u001b[0;34m=\u001b[0m \u001b[0mrf_best_model\u001b[0m\u001b[0;34m.\u001b[0m\u001b[0mpredict\u001b[0m\u001b[0;34m(\u001b[0m\u001b[0mX_submission\u001b[0m\u001b[0;34m)\u001b[0m\u001b[0;34m\u001b[0m\u001b[0;34m\u001b[0m\u001b[0m\n",
            "\u001b[0;32m/usr/local/lib/python3.6/dist-packages/sklearn/compose/_column_transformer.py\u001b[0m in \u001b[0;36mtransform\u001b[0;34m(self, X)\u001b[0m\n\u001b[1;32m    515\u001b[0m \u001b[0;34m\u001b[0m\u001b[0m\n\u001b[1;32m    516\u001b[0m         \"\"\"\n\u001b[0;32m--> 517\u001b[0;31m         \u001b[0mcheck_is_fitted\u001b[0m\u001b[0;34m(\u001b[0m\u001b[0mself\u001b[0m\u001b[0;34m,\u001b[0m \u001b[0;34m'transformers_'\u001b[0m\u001b[0;34m)\u001b[0m\u001b[0;34m\u001b[0m\u001b[0;34m\u001b[0m\u001b[0m\n\u001b[0m\u001b[1;32m    518\u001b[0m         \u001b[0mX\u001b[0m \u001b[0;34m=\u001b[0m \u001b[0m_check_X\u001b[0m\u001b[0;34m(\u001b[0m\u001b[0mX\u001b[0m\u001b[0;34m)\u001b[0m\u001b[0;34m\u001b[0m\u001b[0;34m\u001b[0m\u001b[0m\n\u001b[1;32m    519\u001b[0m \u001b[0;34m\u001b[0m\u001b[0m\n",
            "\u001b[0;32m/usr/local/lib/python3.6/dist-packages/sklearn/utils/validation.py\u001b[0m in \u001b[0;36mcheck_is_fitted\u001b[0;34m(estimator, attributes, msg, all_or_any)\u001b[0m\n\u001b[1;32m    912\u001b[0m \u001b[0;34m\u001b[0m\u001b[0m\n\u001b[1;32m    913\u001b[0m     \u001b[0;32mif\u001b[0m \u001b[0;32mnot\u001b[0m \u001b[0mall_or_any\u001b[0m\u001b[0;34m(\u001b[0m\u001b[0;34m[\u001b[0m\u001b[0mhasattr\u001b[0m\u001b[0;34m(\u001b[0m\u001b[0mestimator\u001b[0m\u001b[0;34m,\u001b[0m \u001b[0mattr\u001b[0m\u001b[0;34m)\u001b[0m \u001b[0;32mfor\u001b[0m \u001b[0mattr\u001b[0m \u001b[0;32min\u001b[0m \u001b[0mattributes\u001b[0m\u001b[0;34m]\u001b[0m\u001b[0;34m)\u001b[0m\u001b[0;34m:\u001b[0m\u001b[0;34m\u001b[0m\u001b[0;34m\u001b[0m\u001b[0m\n\u001b[0;32m--> 914\u001b[0;31m         \u001b[0;32mraise\u001b[0m \u001b[0mNotFittedError\u001b[0m\u001b[0;34m(\u001b[0m\u001b[0mmsg\u001b[0m \u001b[0;34m%\u001b[0m \u001b[0;34m{\u001b[0m\u001b[0;34m'name'\u001b[0m\u001b[0;34m:\u001b[0m \u001b[0mtype\u001b[0m\u001b[0;34m(\u001b[0m\u001b[0mestimator\u001b[0m\u001b[0;34m)\u001b[0m\u001b[0;34m.\u001b[0m\u001b[0m__name__\u001b[0m\u001b[0;34m}\u001b[0m\u001b[0;34m)\u001b[0m\u001b[0;34m\u001b[0m\u001b[0;34m\u001b[0m\u001b[0m\n\u001b[0m\u001b[1;32m    915\u001b[0m \u001b[0;34m\u001b[0m\u001b[0m\n\u001b[1;32m    916\u001b[0m \u001b[0;34m\u001b[0m\u001b[0m\n",
            "\u001b[0;31mNotFittedError\u001b[0m: This ColumnTransformer instance is not fitted yet. Call 'fit' with appropriate arguments before using this method."
          ]
        }
      ]
    },
    {
      "cell_type": "markdown",
      "metadata": {
        "id": "CQnIWRVbcltE",
        "colab_type": "text"
      },
      "source": [
        "####Submission\n",
        "Now that we have our submission predictions, we need to pack them up into a compatible format for our server to handle.\n"
      ]
    },
    {
      "cell_type": "code",
      "metadata": {
        "id": "fFfuM8ve8t1w",
        "colab_type": "code",
        "colab": {}
      },
      "source": [
        "# Creating a dictionary where the keys are the account_ids\n",
        "# and the values are your predictions\n",
        "prediction = dict(zip(map(str, map(int,submission_account_ids)), map(int,y_pred_submission)))\n"
      ],
      "execution_count": 0,
      "outputs": []
    },
    {
      "cell_type": "code",
      "metadata": {
        "id": "ltQWs9SEP89a",
        "colab_type": "code",
        "colab": {}
      },
      "source": [
        "prediction\n"
      ],
      "execution_count": 0,
      "outputs": []
    },
    {
      "cell_type": "markdown",
      "metadata": {
        "id": "zdlT5SRJdadv",
        "colab_type": "text"
      },
      "source": [
        "We now just send the results to our server and wait for the score!"
      ]
    },
    {
      "cell_type": "code",
      "metadata": {
        "id": "E1Ev6lafdZoJ",
        "colab_type": "code",
        "colab": {}
      },
      "source": [
        "# Importing stuff for http requests\n",
        "from urllib import request\n",
        "import json\n",
        "\n",
        "# We validate first that we actually send all the test accounts expected to be sent\n",
        "if y_pred_submission.shape[0] != 71683 or submission_account_ids.shape[0] != 71683:\n",
        "  raise Exception(\"You have to send all of the accounts! Expected: (71683, 71683), Got: ({}, {})\".format(y_pred_submission.shape[0], submission_account_ids.shape[0]))\n",
        "\n",
        "if \"group_name\" not in vars() or group_name == \"\":\n",
        "  group_name = input(\"Please enter your group's name:\")\n",
        "\n",
        "data = json.dumps({'submitter': group_name, 'predictions': prediction}).encode('utf-8')\n",
        "\n",
        "req = request.Request(f\"https://leaderboard.datahack.org.il/monday/api/\",\n",
        "                      headers={'Content-Type': 'application/json'},\n",
        "                      data=data)\n",
        "\n",
        "res = request.urlopen(req)\n",
        "print(json.load(res))"
      ],
      "execution_count": 0,
      "outputs": []
    }
  ]
}