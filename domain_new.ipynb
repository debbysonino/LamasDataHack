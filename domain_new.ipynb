{
  "nbformat": 4,
  "nbformat_minor": 0,
  "metadata": {
    "colab": {
      "name": "domain.ipynb",
      "version": "0.3.2",
      "provenance": [],
      "collapsed_sections": [],
      "include_colab_link": true
    },
    "kernelspec": {
      "name": "python3",
      "display_name": "Python 3"
    }
  },
  "cells": [
    {
      "cell_type": "markdown",
      "metadata": {
        "id": "view-in-github",
        "colab_type": "text"
      },
      "source": [
        "<a href=\"https://colab.research.google.com/github/debbysonino/LamasDataHack/blob/master/domain_new.ipynb\" target=\"_parent\"><img src=\"https://colab.research.google.com/assets/colab-badge.svg\" alt=\"Open In Colab\"/></a>"
      ]
    },
    {
      "cell_type": "code",
      "metadata": {
        "id": "T_HnfoTd_AmW",
        "colab_type": "code",
        "colab": {}
      },
      "source": [
        "popular_emails = pd.read_csv('https://raw.githubusercontent.com/debbysonino/LamasDataHack/master/popular_emails.csv', nrows=7000000000)\n",
        "users_df['email'].value_counts()\n",
        "users_df['domain']=users_df['email'].apply(lambda x: x.split('@')[-1])\n",
        "users_df['mailsuffix']=users_df['domain'].apply(lambda x: x.split('.')[1])\n",
        "users_df['domain_indic']=users_df['domain'].isin(popular_emails)\n",
        "accounts_df['domain']=1-users_df.groupby('account_id').domain_indic.mean()"
      ],
      "execution_count": 0,
      "outputs": []
    }
  ]
}